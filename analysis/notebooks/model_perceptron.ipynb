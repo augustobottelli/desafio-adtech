{
 "cells": [
  {
   "cell_type": "code",
   "execution_count": 1,
   "metadata": {},
   "outputs": [],
   "source": [
    "%load_ext lab_black"
   ]
  },
  {
   "cell_type": "code",
   "execution_count": 434,
   "metadata": {},
   "outputs": [],
   "source": [
    "# Seed value (can actually be different for each attribution step)\n",
    "seed_value = 0\n",
    "\n",
    "# 1. Set `PYTHONHASHSEED` environment variable at a fixed value\n",
    "os.environ[\"PYTHONHASHSEED\"] = str(seed_value)\n",
    "\n",
    "# 2. Set `python` built-in pseudo-random generator at a fixed value\n",
    "random.seed(seed_value)\n",
    "\n",
    "# 3. Set `numpy` pseudo-random generator at a fixed value\n",
    "np.random.seed(seed_value)\n",
    "\n",
    "# 4. Set `tensorflow` pseudo-random generator at a fixed value\n",
    "tf.random.set_seed(seed_value)\n",
    "\n",
    "# 5. Configure a new global `tensorflow` session\n",
    "import tensorflow as tf\n",
    "from keras import backend as K\n",
    "\n",
    "session_conf = tf.compat.v1.ConfigProto(\n",
    "    intra_op_parallelism_threads=1, inter_op_parallelism_threads=1\n",
    ")\n",
    "sess = tf.compat.v1.Session(graph=tf.compat.v1.get_default_graph(), config=session_conf)\n",
    "tf.compat.v1.keras.backend.set_session(sess)"
   ]
  },
  {
   "cell_type": "code",
   "execution_count": 2,
   "metadata": {},
   "outputs": [],
   "source": [
    "import os\n",
    "import itertools\n",
    "from multiprocessing.pool import ThreadPool\n",
    "\n",
    "import numpy as np\n",
    "import ee\n",
    "import pandas as pd\n",
    "import tqdm\n",
    "import folium\n",
    "from sklearn.preprocessing import (\n",
    "    OneHotEncoder,\n",
    "    LabelEncoder,\n",
    "    PolynomialFeatures,\n",
    "    StandardScaler,\n",
    ")\n",
    "import tensorflow as tf\n",
    "from keras.models import Sequential\n",
    "from keras.layers import (\n",
    "    Dense,\n",
    "    Activation,\n",
    "    Conv1D,\n",
    "    MaxPooling1D,\n",
    "    Flatten,\n",
    "    Dropout,\n",
    "    BatchNormalization,\n",
    ")\n",
    "from keras import regularizers, initializers\n",
    "from keras import backend as K"
   ]
  },
  {
   "cell_type": "code",
   "execution_count": null,
   "metadata": {},
   "outputs": [],
   "source": [
    "ee.Authenticate()"
   ]
  },
  {
   "cell_type": "code",
   "execution_count": 3,
   "metadata": {},
   "outputs": [],
   "source": [
    "ee.Initialize()"
   ]
  },
  {
   "cell_type": "code",
   "execution_count": 3,
   "metadata": {},
   "outputs": [],
   "source": [
    "path = os.path.join(\"/home\", \"augusto\", \"Github\", \"DesafioAgTech2020\")\n",
    "os.chdir(path)"
   ]
  },
  {
   "cell_type": "code",
   "execution_count": 110,
   "metadata": {},
   "outputs": [],
   "source": [
    "etiquetas = pd.read_csv(path + \"/dataset/Etiquetas.csv\")\n",
    "train = pd.read_csv(path + \"/dataset/data_train.csv\")\n",
    "test = pd.read_csv(path + \"/dataset/data_test.csv\")"
   ]
  },
  {
   "cell_type": "code",
   "execution_count": 111,
   "metadata": {},
   "outputs": [],
   "source": [
    "train = pd.merge(train, etiquetas, on=\"Cultivo\")\n",
    "train[\"Tipo\"] = train[\"Tipo\"].apply(\n",
    "    lambda x: x.replace(\" \", \"_\").replace(\",\", \"\").lower()\n",
    ")"
   ]
  },
  {
   "cell_type": "code",
   "execution_count": 737,
   "metadata": {},
   "outputs": [],
   "source": [
    "train_augmented = pd.read_csv(\"train_v4_augmented.csv\")\n",
    "valid_augmented = pd.read_csv(\"valid_v4_augmented.csv\")"
   ]
  },
  {
   "cell_type": "code",
   "execution_count": 742,
   "metadata": {},
   "outputs": [],
   "source": [
    "remove_labels = [\"girasol\"]\n",
    "train_augmented = train_augmented.query(f\"etiqueta not in {remove_labels}\")\n",
    "valid_augmented = valid_augmented.query(f\"etiqueta not in {remove_labels}\")\n",
    "\n",
    "train_augmented.drop(\n",
    "    [\"MSK_SNWPRB_mean\", \"QA10_mean\", \"QA20_mean\"], axis=1, inplace=True\n",
    ")\n",
    "valid_augmented.drop(\n",
    "    [\"MSK_SNWPRB_mean\", \"QA10_mean\", \"QA20_mean\"], axis=1, inplace=True\n",
    ")\n",
    "\n",
    "X_train_augmented, y_train_augmented = process_features(\n",
    "    train_augmented, label=\"cultivo\"\n",
    ")\n",
    "\n",
    "X_valid_augmented, y_valid_augmented = process_features(\n",
    "    valid_augmented, label=\"cultivo\"\n",
    ")"
   ]
  },
  {
   "cell_type": "code",
   "execution_count": null,
   "metadata": {},
   "outputs": [],
   "source": [
    "from pandas_profiling import ProfileReport\n",
    "report = ProfileReport(X_train_augmented, title=\"Revision Features\", minimal=True)\n",
    "report.to_notebook_iframe();"
   ]
  },
  {
   "cell_type": "markdown",
   "metadata": {},
   "source": [
    "Always standardize AFTER generating PolynomialFeatures. 1.) Loss of signal. When you create feature interactions, you're generating values that are multiples and squares of themselves."
   ]
  },
  {
   "cell_type": "code",
   "execution_count": 743,
   "metadata": {},
   "outputs": [],
   "source": [
    "sc_X = StandardScaler()\n",
    "X_encoded_train = sc_X.fit_transform(X_train_augmented)\n",
    "X_encoded_valid = sc_X.transform(X_valid_augmented)\n",
    "\n",
    "oversample = SMOTE()\n",
    "X_train_balanced, y_train_balanced = oversample.fit_resample(\n",
    "    X_encoded_train, y_train_augmented\n",
    ")\n",
    "\n",
    "# encode class values as integers\n",
    "encoder = LabelEncoder()\n",
    "encoded_Y_train = encoder.fit_transform(y_train_augmented)\n",
    "encoded_Y_train_balanced = encoder.fit_transform(y_train_balanced)\n",
    "encoded_Y_valid = encoder.transform(y_valid_augmented)\n",
    "# convert integers to dummy variables (i.e. one hot encoded)\n",
    "dummy_y_train = keras.utils.to_categorical(encoded_Y_train)\n",
    "dummy_y_train_balanced = keras.utils.to_categorical(encoded_Y_train_balanced)\n",
    "dummy_y_valid = keras.utils.to_categorical(encoded_Y_valid)"
   ]
  },
  {
   "cell_type": "code",
   "execution_count": 744,
   "metadata": {},
   "outputs": [],
   "source": [
    "n_classes = dummy_y_train.shape[1]"
   ]
  },
  {
   "cell_type": "code",
   "execution_count": 677,
   "metadata": {},
   "outputs": [],
   "source": [
    "def recall_m(y_true, y_pred):\n",
    "    true_positives = K.sum(K.round(K.clip(y_true * y_pred, 0, 1)))\n",
    "    possible_positives = K.sum(K.round(K.clip(y_true, 0, 1)))\n",
    "    recall = true_positives / (possible_positives + K.epsilon())\n",
    "    return recall\n",
    "\n",
    "\n",
    "def precision_m(y_true, y_pred):\n",
    "    true_positives = K.sum(K.round(K.clip(y_true * y_pred, 0, 1)))\n",
    "    predicted_positives = K.sum(K.round(K.clip(y_pred, 0, 1)))\n",
    "    precision = true_positives / (predicted_positives + K.epsilon())\n",
    "    return precision\n",
    "\n",
    "\n",
    "def f1_m(y_true, y_pred):\n",
    "    precision = precision_m(y_true, y_pred)\n",
    "    recall = recall_m(y_true, y_pred)\n",
    "    return 2 * ((precision * recall) / (precision + recall + K.epsilon()))"
   ]
  },
  {
   "cell_type": "code",
   "execution_count": 746,
   "metadata": {},
   "outputs": [
    {
     "name": "stdout",
     "output_type": "stream",
     "text": [
      "6988/6988 [==============================] - 14s 2ms/step - loss: 0.5056 - accuracy: 0.8281 - recall_m: 0.7611 - precision_m: 0.8946 - f1_m: 0.8165 - val_loss: 1.3546 - val_accuracy: 0.6718 - val_recall_m: 0.6327 - val_precision_m: 0.6776 - val_f1_m: 0.6484\n"
     ]
    },
    {
     "data": {
      "text/plain": [
       "<tensorflow.python.keras.callbacks.History at 0x7fb1c40e4710>"
      ]
     },
     "execution_count": 746,
     "metadata": {},
     "output_type": "execute_result"
    }
   ],
   "source": [
    "model = Sequential()\n",
    "model.add(\n",
    "    Dense(\n",
    "        256,\n",
    "        activation=\"relu\",\n",
    "        kernel_regularizer=regularizers.l2(1e-5),\n",
    "        bias_initializer=\"zeros\",\n",
    "    )\n",
    ")\n",
    "model.add(Dropout(0.5))\n",
    "model.add(\n",
    "    Dense(\n",
    "        128,\n",
    "        activation=\"relu\",\n",
    "        kernel_regularizer=regularizers.l2(1e-5),\n",
    "        bias_initializer=\"zeros\",\n",
    "    )\n",
    ")\n",
    "model.add(Dropout(0.5))\n",
    "model.add(Dense(n_classes, activation=\"softmax\"))\n",
    "model.compile(\n",
    "    loss=\"categorical_crossentropy\",\n",
    "    optimizer=keras.optimizers.Adam(lr=0.001),\n",
    "    metrics=[\"accuracy\", recall_m, precision_m, f1_m],\n",
    ")\n",
    "\n",
    "model.fit(\n",
    "    X_train_balanced,\n",
    "    dummy_y_train_balanced,\n",
    "    epochs=1,\n",
    "    validation_data=(X_encoded_valid, dummy_y_valid),\n",
    ")"
   ]
  },
  {
   "cell_type": "code",
   "execution_count": 747,
   "metadata": {},
   "outputs": [
    {
     "name": "stdout",
     "output_type": "stream",
     "text": [
      "6988/6988 [==============================] - 14s 2ms/step - loss: 0.2762 - accuracy: 0.9068 - recall_m: 0.8859 - precision_m: 0.9276 - f1_m: 0.9058 - val_loss: 1.6652 - val_accuracy: 0.6906 - val_recall_m: 0.6719 - val_precision_m: 0.6954 - val_f1_m: 0.6807\n"
     ]
    },
    {
     "data": {
      "text/plain": [
       "<tensorflow.python.keras.callbacks.History at 0x7fb1b463ff98>"
      ]
     },
     "execution_count": 747,
     "metadata": {},
     "output_type": "execute_result"
    }
   ],
   "source": [
    "model.fit(\n",
    "    X_train_balanced,\n",
    "    dummy_y_train_balanced,\n",
    "    epochs=1,\n",
    "    validation_data=(X_encoded_valid, dummy_y_valid),\n",
    ")"
   ]
  },
  {
   "cell_type": "code",
   "execution_count": 748,
   "metadata": {},
   "outputs": [
    {
     "data": {
      "image/png": "[encoded data removed]",
      "text/plain": [
       "<Figure size 720x720 with 1 Axes>"
      ]
     },
     "metadata": {
      "needs_background": "light"
     },
     "output_type": "display_data"
    },
    {
     "name": "stdout",
     "output_type": "stream",
     "text": [
      "Classification Report:\n",
      "              precision    recall  f1-score   support\n",
      "\n",
      "           1       0.84      0.72      0.78     18500\n",
      "           2       0.55      0.66      0.60      5200\n",
      "           3       0.86      0.81      0.84     11700\n",
      "           4       0.56      0.50      0.53       200\n",
      "           5       0.00      0.00      0.00       100\n",
      "           8       0.94      0.52      0.67       400\n",
      "           9       0.46      0.71      0.56      2800\n",
      "          10       0.56      0.54      0.55      4400\n",
      "          11       0.25      0.05      0.09       300\n",
      "          15       0.04      0.08      0.06       100\n",
      "          19       0.56      1.00      0.72       100\n",
      "          23       0.16      0.29      0.20      1800\n",
      "          24       0.79      0.67      0.72       600\n",
      "\n",
      "    accuracy                           0.69     46200\n",
      "   macro avg       0.51      0.50      0.49     46200\n",
      "weighted avg       0.73      0.69      0.70     46200\n",
      "\n"
     ]
    }
   ],
   "source": [
    "from sklearn.metrics import confusion_matrix, classification_report\n",
    "import matplotlib.pyplot as plt\n",
    "import seaborn as sns\n",
    "import numpy as np\n",
    "\n",
    "# Generamos las etiquetas predichas por nuestra red\n",
    "y_pred = model.predict(X_encoded_valid)\n",
    "test_pred = encoder.inverse_transform(np.argmax(y_pred, axis=1))\n",
    "test_labels_ = y_valid_augmented\n",
    "\n",
    "# Confusion Matrix\n",
    "fig, ax = plt.subplots(figsize=(10, 10))\n",
    "conf_matrix = confusion_matrix(test_labels_, test_pred)\n",
    "conf_matrix = conf_matrix / np.sum(conf_matrix, axis=1)\n",
    "\n",
    "sns.heatmap(\n",
    "    conf_matrix,\n",
    "    annot=True,\n",
    "    fmt=\".2f\",\n",
    "    square=True,\n",
    "    cbar=False,\n",
    "    cmap=plt.cm.RdYlGn,\n",
    "    ax=ax,\n",
    ")\n",
    "ax.set_ylabel(\"Actual\")\n",
    "ax.set_xlabel(\"Predicted\")\n",
    "ax.set_title(\"Confusion Matrix\")\n",
    "plt.show()\n",
    "\n",
    "print(\"Classification Report:\")\n",
    "print(classification_report(test_labels_, test_pred))"
   ]
  },
  {
   "cell_type": "markdown",
   "metadata": {},
   "source": [
    "SMOTE"
   ]
  },
  {
   "cell_type": "code",
   "execution_count": 749,
   "metadata": {},
   "outputs": [],
   "source": [
    "full_df = train_augmented.append(valid_augmented, ignore_index=True)\n",
    "full_x, full_y = process_features(full_df, label=\"cultivo\")\n",
    "sc_final = StandardScaler()\n",
    "X_encoded_final = sc_final.fit_transform(full_x)\n",
    "\n",
    "oversample = SMOTE()\n",
    "X_final_balanced, y_final_balanced = oversample.fit_resample(X_encoded_final, full_y)\n",
    "\n",
    "# encode class values as integers\n",
    "encoder_final = LabelEncoder()\n",
    "encoded_Y_final_balanced = encoder_final.fit_transform(y_final_balanced)\n",
    "# convert integers to dummy variables (i.e. one hot encoded)\n",
    "dummy_y_final_balanced = keras.utils.to_categorical(encoded_Y_final_balanced)"
   ]
  },
  {
   "cell_type": "code",
   "execution_count": 752,
   "metadata": {},
   "outputs": [
    {
     "name": "stdout",
     "output_type": "stream",
     "text": [
      "14504/14504 [==============================] - 26s 2ms/step - loss: 0.5124 - accuracy: 0.8266 - recall_m: 0.7624 - precision_m: 0.8893 - f1_m: 0.8163\n"
     ]
    },
    {
     "data": {
      "text/plain": [
       "<tensorflow.python.keras.callbacks.History at 0x7fb1b44906d8>"
      ]
     },
     "execution_count": 752,
     "metadata": {},
     "output_type": "execute_result"
    }
   ],
   "source": [
    "model = Sequential()\n",
    "model.add(\n",
    "    Dense(\n",
    "        256,\n",
    "        activation=\"relu\",\n",
    "        kernel_regularizer=regularizers.l2(1e-5),\n",
    "        bias_initializer=\"zeros\",\n",
    "    )\n",
    ")\n",
    "model.add(Dropout(0.5))\n",
    "model.add(\n",
    "    Dense(\n",
    "        128,\n",
    "        activation=\"relu\",\n",
    "        kernel_regularizer=regularizers.l2(1e-5),\n",
    "        bias_initializer=\"zeros\",\n",
    "    )\n",
    ")\n",
    "model.add(Dropout(0.5))\n",
    "model.add(Dense(n_classes, activation=\"softmax\"))\n",
    "model.compile(\n",
    "    loss=\"categorical_crossentropy\",\n",
    "    optimizer=keras.optimizers.Adam(lr=0.001),\n",
    "    metrics=[\"accuracy\", recall_m, precision_m, f1_m],\n",
    ")\n",
    "\n",
    "model.fit(X_final_balanced, dummy_y_final_balanced, epochs=1, shuffle=True)"
   ]
  },
  {
   "cell_type": "code",
   "execution_count": 753,
   "metadata": {},
   "outputs": [
    {
     "name": "stdout",
     "output_type": "stream",
     "text": [
      "14504/14504 [==============================] - 26s 2ms/step - loss: 0.3354 - accuracy: 0.8863 - recall_m: 0.8602 - precision_m: 0.9121 - f1_m: 0.8849\n"
     ]
    },
    {
     "data": {
      "text/plain": [
       "<tensorflow.python.keras.callbacks.History at 0x7fb1b4309e10>"
      ]
     },
     "execution_count": 753,
     "metadata": {},
     "output_type": "execute_result"
    }
   ],
   "source": [
    "model.fit(\n",
    "    X_final_balanced, dummy_y_final_balanced, epochs=1,\n",
    ")"
   ]
  },
  {
   "cell_type": "code",
   "execution_count": null,
   "metadata": {},
   "outputs": [],
   "source": [
    "model.save(\"modelo_ganador.h5\")"
   ]
  },
  {
   "cell_type": "markdown",
   "metadata": {},
   "source": [
    "## **Final pipeline**"
   ]
  },
  {
   "cell_type": "code",
   "execution_count": 113,
   "metadata": {},
   "outputs": [],
   "source": [
    "def get_bands_info(row):\n",
    "    latitud = row[\"Latitud\"]\n",
    "    longitud = row[\"Longitud\"]\n",
    "    bands = get_coord_bands(\n",
    "        long=longitud,\n",
    "        lat=latitud,\n",
    "        start_year=row[\"start_year\"],\n",
    "        end_year=row[\"end_year\"],\n",
    "    )\n",
    "    data = {\n",
    "        \"latitud\": latitud,\n",
    "        \"longitud\": longitud,\n",
    "        \"elevacion\": row[\"Elevacion\"],\n",
    "        **bands,\n",
    "    }\n",
    "    return data"
   ]
  },
  {
   "cell_type": "code",
   "execution_count": 120,
   "metadata": {},
   "outputs": [],
   "source": [
    "thread_pool = ThreadPool(8)\n",
    "test_bands = thread_pool.map(get_bands_info, test.to_dict(orient=\"records\"))\n",
    "test_final = pd.DataFrame(test_bands)\n",
    "test_final.to_csv(\"test_data_v4.csv\", index=False)"
   ]
  },
  {
   "cell_type": "code",
   "execution_count": 754,
   "metadata": {},
   "outputs": [],
   "source": [
    "test_final = pd.read_csv(\"test_data_v4.csv\")"
   ]
  },
  {
   "cell_type": "code",
   "execution_count": 755,
   "metadata": {},
   "outputs": [],
   "source": [
    "X_final, _ = process_features(test_final)\n",
    "X_final.drop([\"MSK_SNWPRB_mean\", \"QA10_mean\", \"QA20_mean\"], axis=1, inplace=True)"
   ]
  },
  {
   "cell_type": "code",
   "execution_count": 756,
   "metadata": {},
   "outputs": [],
   "source": [
    "X_encoded_test = sc_final.transform(X_final)"
   ]
  },
  {
   "cell_type": "code",
   "execution_count": 757,
   "metadata": {},
   "outputs": [],
   "source": [
    "preds = model.predict(X_encoded_test)"
   ]
  },
  {
   "cell_type": "code",
   "execution_count": 402,
   "metadata": {},
   "outputs": [
    {
     "data": {
      "text/plain": [
       "(array([ 15.,  22.,  34.,  26.,  27.,  37.,  44.,  58., 100., 192.]),\n",
       " array([0.3393698 , 0.40543282, 0.47149584, 0.53755885, 0.6036219 ,\n",
       "        0.6696849 , 0.73574793, 0.8018109 , 0.86787397, 0.93393695,\n",
       "        1.        ], dtype=float32),\n",
       " <a list of 10 Patch objects>)"
      ]
     },
     "execution_count": 402,
     "metadata": {},
     "output_type": "execute_result"
    },
    {
     "data": {
      "image/png": "[encoded data removed]",
      "text/plain": [
       "<Figure size 432x288 with 1 Axes>"
      ]
     },
     "metadata": {
      "needs_background": "light"
     },
     "output_type": "display_data"
    }
   ],
   "source": [
    "pd.DataFrame(np.argmax(preds, axis=1))\n",
    "\n",
    "preds.max(axis=1)\n",
    "\n",
    "np.argwhere(preds > 0.01)\n",
    "\n",
    "(preds.max(axis=1) < 0.4).mean()\n",
    "\n",
    "plt.hist(preds.max(axis=1))"
   ]
  },
  {
   "cell_type": "code",
   "execution_count": 540,
   "metadata": {},
   "outputs": [],
   "source": [
    "argmax = test.copy()\n",
    "argmax[\"argmax\"] = pd.DataFrame(\n",
    "    encoder_final.inverse_transform(np.argmax(preds, axis=1))\n",
    ")\n",
    "argmax[\"prob\"] = np.max(preds, axis=1)"
   ]
  },
  {
   "cell_type": "code",
   "execution_count": 541,
   "metadata": {},
   "outputs": [],
   "source": [
    "argmax[\"corrected_pred\"] = np.where(argmax[\"prob\"] < 0.5, 23, argmax[\"argmax\"])"
   ]
  },
  {
   "cell_type": "code",
   "execution_count": 543,
   "metadata": {},
   "outputs": [],
   "source": [
    "argmax[[\"GlobalId\", \"corrected_pred\"]].to_csv(\n",
    "    \"preds_sadosky_nn_filtered_2.csv\", header=None, index=False\n",
    ")"
   ]
  },
  {
   "cell_type": "code",
   "execution_count": 759,
   "metadata": {},
   "outputs": [],
   "source": [
    "qq = test.copy()\n",
    "qq[\"preds\"] = encoder_final.inverse_transform(np.argmax(preds, axis=1))"
   ]
  }
 ],
 "metadata": {
  "kernelspec": {
   "display_name": "Python 3",
   "language": "python",
   "name": "python3"
  },
  "language_info": {
   "codemirror_mode": {
    "name": "ipython",
    "version": 3
   },
   "file_extension": ".py",
   "mimetype": "text/x-python",
   "name": "python",
   "nbconvert_exporter": "python",
   "pygments_lexer": "ipython3",
   "version": "3.6.9"
  }
 },
 "nbformat": 4,
 "nbformat_minor": 4
}
