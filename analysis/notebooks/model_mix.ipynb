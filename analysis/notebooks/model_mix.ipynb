{
 "cells": [
  {
   "cell_type": "code",
   "execution_count": 1,
   "metadata": {},
   "outputs": [],
   "source": [
    "%load_ext lab_black"
   ]
  },
  {
   "cell_type": "code",
   "execution_count": 2,
   "metadata": {},
   "outputs": [],
   "source": [
    "import os\n",
    "import itertools\n",
    "from multiprocessing.pool import ThreadPool\n",
    "\n",
    "import numpy as np\n",
    "import ee\n",
    "import pandas as pd\n",
    "import tqdm\n",
    "import folium\n",
    "from tqdm.contrib.concurrent import process_map\n",
    "from sklearn.pipeline import Pipeline\n",
    "from sklearn.model_selection import (\n",
    "    train_test_split,`\n",
    "    KFold,\n",
    "    cross_val_score,\n",
    "    GridSearchCV,\n",
    "    RandomizedSearchCV,\n",
    ")\n",
    "from sklearn.preprocessing import (\n",
    "    OneHotEncoder,\n",
    "    LabelEncoder,\n",
    "    PolynomialFeatures,\n",
    "    StandardScaler,\n",
    ")\n",
    "from sklearn.compose import ColumnTransformer\n",
    "from sklearn.feature_extraction.text import CountVectorizer\n",
    "from sklearn.impute import SimpleImputer\n",
    "from sklearn.neighbors import KNeighborsClassifier\n",
    "from sklearn.svm import SVC\n",
    "from sklearn.ensemble import RandomForestClassifier\n",
    "from sklearn.cluster import KMeans\n",
    "from lightgbm import LGBMClassifier"
   ]
  },
  {
   "cell_type": "code",
   "execution_count": null,
   "metadata": {},
   "outputs": [],
   "source": [
    "ee.Authenticate()"
   ]
  },
  {
   "cell_type": "code",
   "execution_count": 3,
   "metadata": {},
   "outputs": [],
   "source": [
    "ee.Initialize()"
   ]
  },
  {
   "cell_type": "code",
   "execution_count": 4,
   "metadata": {},
   "outputs": [],
   "source": [
    "path = os.path.join(\"/home\", \"augusto\", \"Github\", \"DesafioAgTech2020\")\n",
    "os.chdir(path)"
   ]
  },
  {
   "cell_type": "code",
   "execution_count": 5,
   "metadata": {},
   "outputs": [],
   "source": [
    "etiquetas = pd.read_csv(path + \"/dataset/Etiquetas.csv\")\n",
    "train = pd.read_csv(path + \"/dataset/data_train.csv\")\n",
    "test = pd.read_csv(path + \"/dataset/data_test.csv\")"
   ]
  },
  {
   "cell_type": "code",
   "execution_count": 6,
   "metadata": {},
   "outputs": [],
   "source": [
    "train = pd.merge(train, etiquetas, on=\"Cultivo\")\n",
    "train[\"Tipo\"] = train[\"Tipo\"].apply(\n",
    "    lambda x: x.replace(\" \", \"_\").replace(\",\", \"\").lower()\n",
    ")"
   ]
  },
  {
   "cell_type": "code",
   "execution_count": 7,
   "metadata": {},
   "outputs": [],
   "source": [
    "def split_years(campania):\n",
    "    start_year, end_year = tuple(campania.split(\"/\"))\n",
    "    return \"20\" + start_year, \"20\" + end_year"
   ]
  },
  {
   "cell_type": "code",
   "execution_count": 8,
   "metadata": {},
   "outputs": [],
   "source": [
    "train[\"start_year\"], train[\"end_year\"] = zip(*train[\"Campania\"].map(split_years))\n",
    "test[\"start_year\"], test[\"end_year\"] = zip(*test[\"Campania\"].map(split_years))"
   ]
  },
  {
   "cell_type": "code",
   "execution_count": 13,
   "metadata": {},
   "outputs": [
    {
     "data": {
      "text/plain": [
       "<matplotlib.axes._subplots.AxesSubplot at 0x7fbbb80af898>"
      ]
     },
     "execution_count": 13,
     "metadata": {},
     "output_type": "execute_result"
    },
    {
     "data": {
      "image/png": "[encoded data removed]",
      "text/plain": [
       "<Figure size 1080x432 with 1 Axes>"
      ]
     },
     "metadata": {
      "needs_background": "light"
     },
     "output_type": "display_data"
    }
   ],
   "source": [
    "train.boxplot(column=[\"Elevacion\"], by=\"Cultivo\", figsize=(15, 6))"
   ]
  },
  {
   "cell_type": "markdown",
   "metadata": {},
   "source": [
    "Eliminamos las observaciones con etiqueta \"no_sabe\" dado que no aportan ningun tipo de informacion"
   ]
  },
  {
   "cell_type": "code",
   "execution_count": 67,
   "metadata": {},
   "outputs": [],
   "source": [
    "train_filtered = train.query(\"Tipo not in ('girasol')\")\n",
    "\n",
    "X_train, X_valid, y_train, y_valid = train_test_split(\n",
    "    train_filtered.drop(\"Tipo\", axis=1),\n",
    "    train_filtered[\"Tipo\"],\n",
    "    stratify=train_filtered[\"Tipo\"],\n",
    "    test_size=0.5,\n",
    ")\n",
    "\n",
    "train_dataset = X_train.copy()\n",
    "train_dataset[\"Tipo\"] = y_train\n",
    "train_dataset.reset_index(drop=True, inplace=True)\n",
    "valid_dataset = X_valid.copy()\n",
    "valid_dataset[\"Tipo\"] = y_valid\n",
    "valid_dataset.reset_index(drop=True, inplace=True)\n",
    "\n",
    "train_dataset.loc[len(train_dataset) + 1] = train.query(\"Tipo == 'girasol'\").iloc[\n",
    "    0\n",
    "]  # Agrego girasol\n",
    "\n",
    "\n",
    "X_train, X_valid, y_train, y_valid = train_test_split(\n",
    "    train_filtered.drop(\"Tipo\", axis=1),\n",
    "    train_filtered[\"Tipo\"],\n",
    "    stratify=train_filtered[\"Tipo\"],\n",
    "    test_size=0.5,\n",
    ")\n",
    "\n",
    "train_dataset = X_train.copy()\n",
    "train_dataset[\"Tipo\"] = y_train\n",
    "train_dataset.reset_index(drop=True, inplace=True)\n",
    "valid_dataset = X_valid.copy()\n",
    "valid_dataset[\"Tipo\"] = y_valid\n",
    "valid_dataset.reset_index(drop=True, inplace=True)\n",
    "\n",
    "train_dataset.loc[len(train_dataset) + 1] = train.query(\"Tipo == 'girasol'\").iloc[\n",
    "    0\n",
    "]  # Agrego girasol"
   ]
  },
  {
   "cell_type": "code",
   "execution_count": 9,
   "metadata": {},
   "outputs": [],
   "source": [
    "def get_coord_bands(long, lat, start_year, end_year, scale=10):\n",
    "    generate_request = (\n",
    "        ee.ImageCollection(\"COPERNICUS/S2_SR\")\n",
    "        .filterBounds(ee.Geometry.Point(long, lat))\n",
    "        .filterDate(f\"{start_year}-11-01\", f\"{end_year}-04-01\")\n",
    "        .filterMetadata(\"CLOUDY_PIXEL_PERCENTAGE\", \"less_than\", 10)\n",
    "        .reduce(ee.Reducer.mean())\n",
    "        .reduceRegion(ee.Reducer.mean(), ee.Geometry.Point(long, lat), scale=scale)\n",
    "    )\n",
    "    pixel_bands = generate_request.getInfo()\n",
    "    return pixel_bands"
   ]
  },
  {
   "cell_type": "code",
   "execution_count": 10,
   "metadata": {},
   "outputs": [],
   "source": [
    "def get_coord_bands(long, lat, start_year, end_year, scale=10):\n",
    "    generate_request = (\n",
    "        ee.ImageCollection(\"COPERNICUS/S2_SR\")\n",
    "        .filterBounds(ee.Geometry.Point(long, lat))\n",
    "        .filterDate(f\"{start_year}-12-01\", f\"{end_year}-04-01\")\n",
    "        .filterMetadata(\"CLOUDY_PIXEL_PERCENTAGE\", \"less_than\", 10)\n",
    "        .reduce(ee.Reducer.mean())\n",
    "        .reduceRegion(ee.Reducer.mean(), ee.Geometry.Point(long, lat), scale=scale)\n",
    "    )\n",
    "    pixel_bands = generate_request.getInfo()\n",
    "    return pixel_bands"
   ]
  },
  {
   "cell_type": "code",
   "execution_count": 11,
   "metadata": {},
   "outputs": [],
   "source": [
    "def get_coord_bands(long, lat, start_year, end_year, scale=10):\n",
    "    generate_request = (\n",
    "        ee.ImageCollection(\"COPERNICUS/S2_SR\")\n",
    "        .filterBounds(ee.Geometry.Point(long, lat))\n",
    "        .filterDate(f\"{start_year}-12-01\", f\"{end_year}-03-01\")\n",
    "        .filterMetadata(\"CLOUDY_PIXEL_PERCENTAGE\", \"less_than\", 10)\n",
    "        .reduce(ee.Reducer.mean())\n",
    "        .reduceRegion(ee.Reducer.mean(), ee.Geometry.Point(long, lat), scale=scale)\n",
    "    )\n",
    "    pixel_bands = generate_request.getInfo()\n",
    "    return pixel_bands"
   ]
  },
  {
   "cell_type": "code",
   "execution_count": 12,
   "metadata": {},
   "outputs": [],
   "source": [
    "def get_coord_bands(long, lat, start_year, end_year, scale=10):\n",
    "    generate_request = (\n",
    "        ee.ImageCollection(\"COPERNICUS/S2_SR\")\n",
    "        .filterBounds(ee.Geometry.Point(long, lat))\n",
    "        .filterDate(f\"{start_year}-12-15\", f\"{end_year}-03-15\")\n",
    "        .filterMetadata(\"CLOUDY_PIXEL_PERCENTAGE\", \"less_than\", 10)\n",
    "        .reduce(ee.Reducer.mean())\n",
    "        .reduceRegion(ee.Reducer.mean(), ee.Geometry.Point(long, lat), scale=scale)\n",
    "    )\n",
    "    pixel_bands = generate_request.getInfo()\n",
    "    return pixel_bands"
   ]
  },
  {
   "cell_type": "code",
   "execution_count": 13,
   "metadata": {},
   "outputs": [],
   "source": [
    "def get_bands_info(row):\n",
    "    latitud = row[\"Latitud\"]\n",
    "    longitud = row[\"Longitud\"]\n",
    "    bands = get_coord_bands(\n",
    "        long=longitud,\n",
    "        lat=latitud,\n",
    "        start_year=row[\"start_year\"],\n",
    "        end_year=row[\"end_year\"],\n",
    "    )\n",
    "    data = {\n",
    "        \"latitud\": latitud,\n",
    "        \"longitud\": longitud,\n",
    "        \"elevacion\": row[\"Elevacion\"],\n",
    "        \"cultivo\": row[\"CultivoId\"],\n",
    "        \"etiqueta\": row[\"Tipo\"],\n",
    "        **bands,\n",
    "    }\n",
    "    return data"
   ]
  },
  {
   "cell_type": "code",
   "execution_count": 14,
   "metadata": {},
   "outputs": [],
   "source": [
    "def data_augmentation(row, start=-0.0005, end=0.0005, offset=0.0001):\n",
    "    new_obs = []\n",
    "    for lat_offset in np.arange(start, end, offset):\n",
    "        for long_offset in np.arange(start, end, offset):\n",
    "            image_type = (\n",
    "                \"original\" if (long_offset == 0 and lat_offset == 0) else \"augmented\"\n",
    "            )\n",
    "            latitud = row[\"Latitud\"] + lat_offset\n",
    "            longitud = row[\"Longitud\"] + long_offset\n",
    "            for i in range(0, 100):\n",
    "                try:\n",
    "                    bands = get_coord_bands(\n",
    "                        long=longitud,\n",
    "                        lat=latitud,\n",
    "                        start_year=row[\"start_year\"],\n",
    "                        end_year=row[\"end_year\"],\n",
    "                    )\n",
    "                    break\n",
    "                except Exception as e:\n",
    "                    print(f\"Retry {i}: {e}\")\n",
    "                    continue\n",
    "            data = {\n",
    "                \"latitud\": latitud,\n",
    "                \"longitud\": longitud,\n",
    "                \"elevacion\": row[\"Elevacion\"],\n",
    "                **bands,\n",
    "                \"cultivo\": row[\"CultivoId\"],\n",
    "                \"etiqueta\": row[\"Tipo\"],\n",
    "                \"imagen\": image_type,\n",
    "            }\n",
    "            new_obs.append(data)\n",
    "    return new_obs"
   ]
  },
  {
   "cell_type": "code",
   "execution_count": 48,
   "metadata": {},
   "outputs": [],
   "source": [
    "train_augmented = pd.read_csv(\"train_v4_augmented.csv\")\n",
    "sep = pd.merge(\n",
    "    train_augmented.rename(columns={\"latitud\": \"Latitud\", \"longitud\": \"Longitud\"}),\n",
    "    train,\n",
    "    on=[\"Latitud\", \"Longitud\"],\n",
    "    how=\"right\",\n",
    ")\n",
    "\n",
    "valid_dataset = sep[sep[\"AOT_mean\"].isna()].dropna(axis=1)"
   ]
  },
  {
   "cell_type": "code",
   "execution_count": 229,
   "metadata": {},
   "outputs": [],
   "source": [
    "train_augmented = pd.read_csv(\"train_v4_augmented.csv\")\n",
    "sep = pd.merge(\n",
    "    train_augmented.rename(columns={\"latitud\": \"Latitud\", \"longitud\": \"Longitud\"}),\n",
    "    train,\n",
    "    on=[\"Latitud\", \"Longitud\"],\n",
    "    how=\"right\",\n",
    ")"
   ]
  },
  {
   "cell_type": "code",
   "execution_count": 235,
   "metadata": {},
   "outputs": [
    {
     "data": {
      "text/html": [
       "<div>\n",
       "<style scoped>\n",
       "    .dataframe tbody tr th:only-of-type {\n",
       "        vertical-align: middle;\n",
       "    }\n",
       "\n",
       "    .dataframe tbody tr th {\n",
       "        vertical-align: top;\n",
       "    }\n",
       "\n",
       "    .dataframe thead th {\n",
       "        text-align: right;\n",
       "    }\n",
       "</style>\n",
       "<table border=\"1\" class=\"dataframe\">\n",
       "  <thead>\n",
       "    <tr style=\"text-align: right;\">\n",
       "      <th></th>\n",
       "      <th>Id</th>\n",
       "      <th>Cultivo</th>\n",
       "      <th>Longitud</th>\n",
       "      <th>Latitud</th>\n",
       "      <th>Elevacion</th>\n",
       "      <th>Dataset</th>\n",
       "      <th>Campania</th>\n",
       "      <th>GlobalId</th>\n",
       "      <th>CultivoId</th>\n",
       "      <th>Tipo</th>\n",
       "      <th>start_year</th>\n",
       "      <th>end_year</th>\n",
       "    </tr>\n",
       "  </thead>\n",
       "  <tbody>\n",
       "    <tr>\n",
       "      <th>0</th>\n",
       "      <td>1</td>\n",
       "      <td>S</td>\n",
       "      <td>-62.144163</td>\n",
       "      <td>-33.800202</td>\n",
       "      <td>104.111862</td>\n",
       "      <td>BC</td>\n",
       "      <td>18/19</td>\n",
       "      <td>1</td>\n",
       "      <td>1</td>\n",
       "      <td>soja_1</td>\n",
       "      <td>2018</td>\n",
       "      <td>2019</td>\n",
       "    </tr>\n",
       "    <tr>\n",
       "      <th>1</th>\n",
       "      <td>14</td>\n",
       "      <td>S</td>\n",
       "      <td>-62.131195</td>\n",
       "      <td>-33.789271</td>\n",
       "      <td>103.085487</td>\n",
       "      <td>BC</td>\n",
       "      <td>18/19</td>\n",
       "      <td>14</td>\n",
       "      <td>1</td>\n",
       "      <td>soja_1</td>\n",
       "      <td>2018</td>\n",
       "      <td>2019</td>\n",
       "    </tr>\n",
       "    <tr>\n",
       "      <th>2</th>\n",
       "      <td>15</td>\n",
       "      <td>S</td>\n",
       "      <td>-62.140227</td>\n",
       "      <td>-33.797085</td>\n",
       "      <td>101.863167</td>\n",
       "      <td>BC</td>\n",
       "      <td>18/19</td>\n",
       "      <td>15</td>\n",
       "      <td>1</td>\n",
       "      <td>soja_1</td>\n",
       "      <td>2018</td>\n",
       "      <td>2019</td>\n",
       "    </tr>\n",
       "    <tr>\n",
       "      <th>3</th>\n",
       "      <td>23</td>\n",
       "      <td>S</td>\n",
       "      <td>-62.207429</td>\n",
       "      <td>-33.844643</td>\n",
       "      <td>115.140739</td>\n",
       "      <td>BC</td>\n",
       "      <td>18/19</td>\n",
       "      <td>23</td>\n",
       "      <td>1</td>\n",
       "      <td>soja_1</td>\n",
       "      <td>2018</td>\n",
       "      <td>2019</td>\n",
       "    </tr>\n",
       "    <tr>\n",
       "      <th>4</th>\n",
       "      <td>33</td>\n",
       "      <td>S</td>\n",
       "      <td>-62.052854</td>\n",
       "      <td>-33.754545</td>\n",
       "      <td>102.544304</td>\n",
       "      <td>BC</td>\n",
       "      <td>18/19</td>\n",
       "      <td>33</td>\n",
       "      <td>1</td>\n",
       "      <td>soja_1</td>\n",
       "      <td>2018</td>\n",
       "      <td>2019</td>\n",
       "    </tr>\n",
       "  </tbody>\n",
       "</table>\n",
       "</div>"
      ],
      "text/plain": [
       "   Id Cultivo   Longitud    Latitud   Elevacion Dataset Campania  GlobalId  \\\n",
       "0   1       S -62.144163 -33.800202  104.111862      BC    18/19         1   \n",
       "1  14       S -62.131195 -33.789271  103.085487      BC    18/19        14   \n",
       "2  15       S -62.140227 -33.797085  101.863167      BC    18/19        15   \n",
       "3  23       S -62.207429 -33.844643  115.140739      BC    18/19        23   \n",
       "4  33       S -62.052854 -33.754545  102.544304      BC    18/19        33   \n",
       "\n",
       "   CultivoId    Tipo start_year end_year  \n",
       "0          1  soja_1       2018     2019  \n",
       "1          1  soja_1       2018     2019  \n",
       "2          1  soja_1       2018     2019  \n",
       "3          1  soja_1       2018     2019  \n",
       "4          1  soja_1       2018     2019  "
      ]
     },
     "execution_count": 235,
     "metadata": {},
     "output_type": "execute_result"
    }
   ],
   "source": [
    "train.head()"
   ]
  },
  {
   "cell_type": "code",
   "execution_count": 231,
   "metadata": {},
   "outputs": [
    {
     "data": {
      "text/plain": [
       "(462, 12)"
      ]
     },
     "execution_count": 231,
     "metadata": {},
     "output_type": "execute_result"
    }
   ],
   "source": [
    "valid_dataset.shape"
   ]
  },
  {
   "cell_type": "code",
   "execution_count": 239,
   "metadata": {},
   "outputs": [
    {
     "data": {
      "text/html": [
       "<div>\n",
       "<style scoped>\n",
       "    .dataframe tbody tr th:only-of-type {\n",
       "        vertical-align: middle;\n",
       "    }\n",
       "\n",
       "    .dataframe tbody tr th {\n",
       "        vertical-align: top;\n",
       "    }\n",
       "\n",
       "    .dataframe thead th {\n",
       "        text-align: right;\n",
       "    }\n",
       "</style>\n",
       "<table border=\"1\" class=\"dataframe\">\n",
       "  <thead>\n",
       "    <tr style=\"text-align: right;\">\n",
       "      <th></th>\n",
       "      <th>latitud</th>\n",
       "      <th>longitud</th>\n",
       "      <th>elevacion</th>\n",
       "      <th>AOT_mean</th>\n",
       "      <th>B11_mean</th>\n",
       "      <th>B12_mean</th>\n",
       "      <th>B1_mean</th>\n",
       "      <th>B2_mean</th>\n",
       "      <th>B3_mean</th>\n",
       "      <th>B4_mean</th>\n",
       "      <th>...</th>\n",
       "      <th>QA20_mean</th>\n",
       "      <th>QA60_mean</th>\n",
       "      <th>SCL_mean</th>\n",
       "      <th>TCI_B_mean</th>\n",
       "      <th>TCI_G_mean</th>\n",
       "      <th>TCI_R_mean</th>\n",
       "      <th>WVP_mean</th>\n",
       "      <th>cultivo</th>\n",
       "      <th>etiqueta</th>\n",
       "      <th>imagen</th>\n",
       "    </tr>\n",
       "  </thead>\n",
       "  <tbody>\n",
       "    <tr>\n",
       "      <th>0</th>\n",
       "      <td>-34.270263</td>\n",
       "      <td>-62.031311</td>\n",
       "      <td>113.319977</td>\n",
       "      <td>189.428571</td>\n",
       "      <td>1998.142857</td>\n",
       "      <td>1146.714286</td>\n",
       "      <td>320.714286</td>\n",
       "      <td>355.285714</td>\n",
       "      <td>665.142857</td>\n",
       "      <td>617.285714</td>\n",
       "      <td>...</td>\n",
       "      <td>0</td>\n",
       "      <td>292.571429</td>\n",
       "      <td>4.857143</td>\n",
       "      <td>36.857143</td>\n",
       "      <td>68.000000</td>\n",
       "      <td>63.000000</td>\n",
       "      <td>1676.571429</td>\n",
       "      <td>10</td>\n",
       "      <td>campo_natural</td>\n",
       "      <td>augmented</td>\n",
       "    </tr>\n",
       "    <tr>\n",
       "      <th>1</th>\n",
       "      <td>-34.270263</td>\n",
       "      <td>-62.031211</td>\n",
       "      <td>113.319977</td>\n",
       "      <td>189.285714</td>\n",
       "      <td>2769.714286</td>\n",
       "      <td>1713.000000</td>\n",
       "      <td>320.714286</td>\n",
       "      <td>459.142857</td>\n",
       "      <td>765.714286</td>\n",
       "      <td>828.571429</td>\n",
       "      <td>...</td>\n",
       "      <td>0</td>\n",
       "      <td>292.571429</td>\n",
       "      <td>5.142857</td>\n",
       "      <td>47.142857</td>\n",
       "      <td>78.428571</td>\n",
       "      <td>85.000000</td>\n",
       "      <td>1629.285714</td>\n",
       "      <td>10</td>\n",
       "      <td>campo_natural</td>\n",
       "      <td>augmented</td>\n",
       "    </tr>\n",
       "    <tr>\n",
       "      <th>2</th>\n",
       "      <td>-34.270263</td>\n",
       "      <td>-62.031111</td>\n",
       "      <td>113.319977</td>\n",
       "      <td>189.285714</td>\n",
       "      <td>2769.714286</td>\n",
       "      <td>1713.000000</td>\n",
       "      <td>320.714286</td>\n",
       "      <td>459.142857</td>\n",
       "      <td>765.714286</td>\n",
       "      <td>828.571429</td>\n",
       "      <td>...</td>\n",
       "      <td>0</td>\n",
       "      <td>292.571429</td>\n",
       "      <td>5.142857</td>\n",
       "      <td>47.142857</td>\n",
       "      <td>78.428571</td>\n",
       "      <td>85.000000</td>\n",
       "      <td>1629.285714</td>\n",
       "      <td>10</td>\n",
       "      <td>campo_natural</td>\n",
       "      <td>augmented</td>\n",
       "    </tr>\n",
       "    <tr>\n",
       "      <th>3</th>\n",
       "      <td>-34.270263</td>\n",
       "      <td>-62.031011</td>\n",
       "      <td>113.319977</td>\n",
       "      <td>189.285714</td>\n",
       "      <td>2769.714286</td>\n",
       "      <td>1713.000000</td>\n",
       "      <td>320.714286</td>\n",
       "      <td>523.142857</td>\n",
       "      <td>867.428571</td>\n",
       "      <td>955.000000</td>\n",
       "      <td>...</td>\n",
       "      <td>0</td>\n",
       "      <td>292.571429</td>\n",
       "      <td>5.142857</td>\n",
       "      <td>53.428571</td>\n",
       "      <td>89.000000</td>\n",
       "      <td>98.000000</td>\n",
       "      <td>1629.285714</td>\n",
       "      <td>10</td>\n",
       "      <td>campo_natural</td>\n",
       "      <td>augmented</td>\n",
       "    </tr>\n",
       "    <tr>\n",
       "      <th>4</th>\n",
       "      <td>-34.270263</td>\n",
       "      <td>-62.030911</td>\n",
       "      <td>113.319977</td>\n",
       "      <td>189.285714</td>\n",
       "      <td>3077.714286</td>\n",
       "      <td>1980.428571</td>\n",
       "      <td>358.857143</td>\n",
       "      <td>604.142857</td>\n",
       "      <td>941.571429</td>\n",
       "      <td>1086.285714</td>\n",
       "      <td>...</td>\n",
       "      <td>0</td>\n",
       "      <td>292.571429</td>\n",
       "      <td>5.285714</td>\n",
       "      <td>62.000000</td>\n",
       "      <td>96.285714</td>\n",
       "      <td>110.571429</td>\n",
       "      <td>1591.857143</td>\n",
       "      <td>10</td>\n",
       "      <td>campo_natural</td>\n",
       "      <td>augmented</td>\n",
       "    </tr>\n",
       "  </tbody>\n",
       "</table>\n",
       "<p>5 rows × 29 columns</p>\n",
       "</div>"
      ],
      "text/plain": [
       "     latitud   longitud   elevacion    AOT_mean     B11_mean     B12_mean  \\\n",
       "0 -34.270263 -62.031311  113.319977  189.428571  1998.142857  1146.714286   \n",
       "1 -34.270263 -62.031211  113.319977  189.285714  2769.714286  1713.000000   \n",
       "2 -34.270263 -62.031111  113.319977  189.285714  2769.714286  1713.000000   \n",
       "3 -34.270263 -62.031011  113.319977  189.285714  2769.714286  1713.000000   \n",
       "4 -34.270263 -62.030911  113.319977  189.285714  3077.714286  1980.428571   \n",
       "\n",
       "      B1_mean     B2_mean     B3_mean      B4_mean  ...  QA20_mean  \\\n",
       "0  320.714286  355.285714  665.142857   617.285714  ...          0   \n",
       "1  320.714286  459.142857  765.714286   828.571429  ...          0   \n",
       "2  320.714286  459.142857  765.714286   828.571429  ...          0   \n",
       "3  320.714286  523.142857  867.428571   955.000000  ...          0   \n",
       "4  358.857143  604.142857  941.571429  1086.285714  ...          0   \n",
       "\n",
       "    QA60_mean  SCL_mean  TCI_B_mean  TCI_G_mean  TCI_R_mean     WVP_mean  \\\n",
       "0  292.571429  4.857143   36.857143   68.000000   63.000000  1676.571429   \n",
       "1  292.571429  5.142857   47.142857   78.428571   85.000000  1629.285714   \n",
       "2  292.571429  5.142857   47.142857   78.428571   85.000000  1629.285714   \n",
       "3  292.571429  5.142857   53.428571   89.000000   98.000000  1629.285714   \n",
       "4  292.571429  5.285714   62.000000   96.285714  110.571429  1591.857143   \n",
       "\n",
       "   cultivo       etiqueta     imagen  \n",
       "0       10  campo_natural  augmented  \n",
       "1       10  campo_natural  augmented  \n",
       "2       10  campo_natural  augmented  \n",
       "3       10  campo_natural  augmented  \n",
       "4       10  campo_natural  augmented  \n",
       "\n",
       "[5 rows x 29 columns]"
      ]
     },
     "execution_count": 239,
     "metadata": {},
     "output_type": "execute_result"
    }
   ],
   "source": [
    "train_augmented.head()"
   ]
  },
  {
   "cell_type": "code",
   "execution_count": 237,
   "metadata": {},
   "outputs": [
    {
     "data": {
      "text/html": [
       "<div>\n",
       "<style scoped>\n",
       "    .dataframe tbody tr th:only-of-type {\n",
       "        vertical-align: middle;\n",
       "    }\n",
       "\n",
       "    .dataframe tbody tr th {\n",
       "        vertical-align: top;\n",
       "    }\n",
       "\n",
       "    .dataframe thead th {\n",
       "        text-align: right;\n",
       "    }\n",
       "</style>\n",
       "<table border=\"1\" class=\"dataframe\">\n",
       "  <thead>\n",
       "    <tr style=\"text-align: right;\">\n",
       "      <th></th>\n",
       "      <th>Latitud</th>\n",
       "      <th>Longitud</th>\n",
       "      <th>elevacion</th>\n",
       "      <th>AOT_mean</th>\n",
       "      <th>B11_mean</th>\n",
       "      <th>B12_mean</th>\n",
       "      <th>B1_mean</th>\n",
       "      <th>B2_mean</th>\n",
       "      <th>B3_mean</th>\n",
       "      <th>B4_mean</th>\n",
       "      <th>...</th>\n",
       "      <th>Id</th>\n",
       "      <th>Cultivo</th>\n",
       "      <th>Elevacion</th>\n",
       "      <th>Dataset</th>\n",
       "      <th>Campania</th>\n",
       "      <th>GlobalId</th>\n",
       "      <th>CultivoId</th>\n",
       "      <th>Tipo</th>\n",
       "      <th>start_year</th>\n",
       "      <th>end_year</th>\n",
       "    </tr>\n",
       "  </thead>\n",
       "  <tbody>\n",
       "    <tr>\n",
       "      <th>387</th>\n",
       "      <td>-33.800202</td>\n",
       "      <td>-62.144163</td>\n",
       "      <td>NaN</td>\n",
       "      <td>NaN</td>\n",
       "      <td>NaN</td>\n",
       "      <td>NaN</td>\n",
       "      <td>NaN</td>\n",
       "      <td>NaN</td>\n",
       "      <td>NaN</td>\n",
       "      <td>NaN</td>\n",
       "      <td>...</td>\n",
       "      <td>1</td>\n",
       "      <td>S</td>\n",
       "      <td>104.111862</td>\n",
       "      <td>BC</td>\n",
       "      <td>18/19</td>\n",
       "      <td>1</td>\n",
       "      <td>1</td>\n",
       "      <td>soja_1</td>\n",
       "      <td>2018</td>\n",
       "      <td>2019</td>\n",
       "    </tr>\n",
       "    <tr>\n",
       "      <th>388</th>\n",
       "      <td>-33.789271</td>\n",
       "      <td>-62.131195</td>\n",
       "      <td>NaN</td>\n",
       "      <td>NaN</td>\n",
       "      <td>NaN</td>\n",
       "      <td>NaN</td>\n",
       "      <td>NaN</td>\n",
       "      <td>NaN</td>\n",
       "      <td>NaN</td>\n",
       "      <td>NaN</td>\n",
       "      <td>...</td>\n",
       "      <td>14</td>\n",
       "      <td>S</td>\n",
       "      <td>103.085487</td>\n",
       "      <td>BC</td>\n",
       "      <td>18/19</td>\n",
       "      <td>14</td>\n",
       "      <td>1</td>\n",
       "      <td>soja_1</td>\n",
       "      <td>2018</td>\n",
       "      <td>2019</td>\n",
       "    </tr>\n",
       "    <tr>\n",
       "      <th>389</th>\n",
       "      <td>-33.754545</td>\n",
       "      <td>-62.052854</td>\n",
       "      <td>NaN</td>\n",
       "      <td>NaN</td>\n",
       "      <td>NaN</td>\n",
       "      <td>NaN</td>\n",
       "      <td>NaN</td>\n",
       "      <td>NaN</td>\n",
       "      <td>NaN</td>\n",
       "      <td>NaN</td>\n",
       "      <td>...</td>\n",
       "      <td>33</td>\n",
       "      <td>S</td>\n",
       "      <td>102.544304</td>\n",
       "      <td>BC</td>\n",
       "      <td>18/19</td>\n",
       "      <td>33</td>\n",
       "      <td>1</td>\n",
       "      <td>soja_1</td>\n",
       "      <td>2018</td>\n",
       "      <td>2019</td>\n",
       "    </tr>\n",
       "    <tr>\n",
       "      <th>390</th>\n",
       "      <td>-33.870758</td>\n",
       "      <td>-62.146479</td>\n",
       "      <td>NaN</td>\n",
       "      <td>NaN</td>\n",
       "      <td>NaN</td>\n",
       "      <td>NaN</td>\n",
       "      <td>NaN</td>\n",
       "      <td>NaN</td>\n",
       "      <td>NaN</td>\n",
       "      <td>NaN</td>\n",
       "      <td>...</td>\n",
       "      <td>57</td>\n",
       "      <td>S</td>\n",
       "      <td>113.059998</td>\n",
       "      <td>BC</td>\n",
       "      <td>18/19</td>\n",
       "      <td>57</td>\n",
       "      <td>1</td>\n",
       "      <td>soja_1</td>\n",
       "      <td>2018</td>\n",
       "      <td>2019</td>\n",
       "    </tr>\n",
       "    <tr>\n",
       "      <th>391</th>\n",
       "      <td>-33.847989</td>\n",
       "      <td>-62.208587</td>\n",
       "      <td>NaN</td>\n",
       "      <td>NaN</td>\n",
       "      <td>NaN</td>\n",
       "      <td>NaN</td>\n",
       "      <td>NaN</td>\n",
       "      <td>NaN</td>\n",
       "      <td>NaN</td>\n",
       "      <td>NaN</td>\n",
       "      <td>...</td>\n",
       "      <td>89</td>\n",
       "      <td>S</td>\n",
       "      <td>110.176811</td>\n",
       "      <td>BC</td>\n",
       "      <td>18/19</td>\n",
       "      <td>89</td>\n",
       "      <td>1</td>\n",
       "      <td>soja_1</td>\n",
       "      <td>2018</td>\n",
       "      <td>2019</td>\n",
       "    </tr>\n",
       "    <tr>\n",
       "      <th>...</th>\n",
       "      <td>...</td>\n",
       "      <td>...</td>\n",
       "      <td>...</td>\n",
       "      <td>...</td>\n",
       "      <td>...</td>\n",
       "      <td>...</td>\n",
       "      <td>...</td>\n",
       "      <td>...</td>\n",
       "      <td>...</td>\n",
       "      <td>...</td>\n",
       "      <td>...</td>\n",
       "      <td>...</td>\n",
       "      <td>...</td>\n",
       "      <td>...</td>\n",
       "      <td>...</td>\n",
       "      <td>...</td>\n",
       "      <td>...</td>\n",
       "      <td>...</td>\n",
       "      <td>...</td>\n",
       "      <td>...</td>\n",
       "      <td>...</td>\n",
       "    </tr>\n",
       "    <tr>\n",
       "      <th>844</th>\n",
       "      <td>-33.791834</td>\n",
       "      <td>-61.210180</td>\n",
       "      <td>NaN</td>\n",
       "      <td>NaN</td>\n",
       "      <td>NaN</td>\n",
       "      <td>NaN</td>\n",
       "      <td>NaN</td>\n",
       "      <td>NaN</td>\n",
       "      <td>NaN</td>\n",
       "      <td>NaN</td>\n",
       "      <td>...</td>\n",
       "      <td>466</td>\n",
       "      <td>U</td>\n",
       "      <td>-0.000023</td>\n",
       "      <td>BCR</td>\n",
       "      <td>19/20</td>\n",
       "      <td>1448</td>\n",
       "      <td>24</td>\n",
       "      <td>urbano</td>\n",
       "      <td>2019</td>\n",
       "      <td>2020</td>\n",
       "    </tr>\n",
       "    <tr>\n",
       "      <th>845</th>\n",
       "      <td>-33.931952</td>\n",
       "      <td>-62.100384</td>\n",
       "      <td>NaN</td>\n",
       "      <td>NaN</td>\n",
       "      <td>NaN</td>\n",
       "      <td>NaN</td>\n",
       "      <td>NaN</td>\n",
       "      <td>NaN</td>\n",
       "      <td>NaN</td>\n",
       "      <td>NaN</td>\n",
       "      <td>...</td>\n",
       "      <td>249</td>\n",
       "      <td>B</td>\n",
       "      <td>107.368271</td>\n",
       "      <td>BC</td>\n",
       "      <td>19/20</td>\n",
       "      <td>799</td>\n",
       "      <td>11</td>\n",
       "      <td>barbecho</td>\n",
       "      <td>2019</td>\n",
       "      <td>2020</td>\n",
       "    </tr>\n",
       "    <tr>\n",
       "      <th>846</th>\n",
       "      <td>-33.651820</td>\n",
       "      <td>-62.302571</td>\n",
       "      <td>NaN</td>\n",
       "      <td>NaN</td>\n",
       "      <td>NaN</td>\n",
       "      <td>NaN</td>\n",
       "      <td>NaN</td>\n",
       "      <td>NaN</td>\n",
       "      <td>NaN</td>\n",
       "      <td>NaN</td>\n",
       "      <td>...</td>\n",
       "      <td>270</td>\n",
       "      <td>B</td>\n",
       "      <td>114.898140</td>\n",
       "      <td>BC</td>\n",
       "      <td>19/20</td>\n",
       "      <td>820</td>\n",
       "      <td>11</td>\n",
       "      <td>barbecho</td>\n",
       "      <td>2019</td>\n",
       "      <td>2020</td>\n",
       "    </tr>\n",
       "    <tr>\n",
       "      <th>847</th>\n",
       "      <td>-33.812640</td>\n",
       "      <td>-61.873674</td>\n",
       "      <td>NaN</td>\n",
       "      <td>NaN</td>\n",
       "      <td>NaN</td>\n",
       "      <td>NaN</td>\n",
       "      <td>NaN</td>\n",
       "      <td>NaN</td>\n",
       "      <td>NaN</td>\n",
       "      <td>NaN</td>\n",
       "      <td>...</td>\n",
       "      <td>323</td>\n",
       "      <td>B</td>\n",
       "      <td>103.934578</td>\n",
       "      <td>BC</td>\n",
       "      <td>19/20</td>\n",
       "      <td>873</td>\n",
       "      <td>11</td>\n",
       "      <td>barbecho</td>\n",
       "      <td>2019</td>\n",
       "      <td>2020</td>\n",
       "    </tr>\n",
       "    <tr>\n",
       "      <th>848</th>\n",
       "      <td>-33.812474</td>\n",
       "      <td>-61.753666</td>\n",
       "      <td>NaN</td>\n",
       "      <td>NaN</td>\n",
       "      <td>NaN</td>\n",
       "      <td>NaN</td>\n",
       "      <td>NaN</td>\n",
       "      <td>NaN</td>\n",
       "      <td>NaN</td>\n",
       "      <td>NaN</td>\n",
       "      <td>...</td>\n",
       "      <td>394</td>\n",
       "      <td>T</td>\n",
       "      <td>103.469976</td>\n",
       "      <td>BCR</td>\n",
       "      <td>19/20</td>\n",
       "      <td>1376</td>\n",
       "      <td>5</td>\n",
       "      <td>trigo</td>\n",
       "      <td>2019</td>\n",
       "      <td>2020</td>\n",
       "    </tr>\n",
       "  </tbody>\n",
       "</table>\n",
       "<p>462 rows × 39 columns</p>\n",
       "</div>"
      ],
      "text/plain": [
       "       Latitud   Longitud  elevacion  AOT_mean  B11_mean  B12_mean  B1_mean  \\\n",
       "387 -33.800202 -62.144163        NaN       NaN       NaN       NaN      NaN   \n",
       "388 -33.789271 -62.131195        NaN       NaN       NaN       NaN      NaN   \n",
       "389 -33.754545 -62.052854        NaN       NaN       NaN       NaN      NaN   \n",
       "390 -33.870758 -62.146479        NaN       NaN       NaN       NaN      NaN   \n",
       "391 -33.847989 -62.208587        NaN       NaN       NaN       NaN      NaN   \n",
       "..         ...        ...        ...       ...       ...       ...      ...   \n",
       "844 -33.791834 -61.210180        NaN       NaN       NaN       NaN      NaN   \n",
       "845 -33.931952 -62.100384        NaN       NaN       NaN       NaN      NaN   \n",
       "846 -33.651820 -62.302571        NaN       NaN       NaN       NaN      NaN   \n",
       "847 -33.812640 -61.873674        NaN       NaN       NaN       NaN      NaN   \n",
       "848 -33.812474 -61.753666        NaN       NaN       NaN       NaN      NaN   \n",
       "\n",
       "     B2_mean  B3_mean  B4_mean  ...   Id  Cultivo   Elevacion  Dataset  \\\n",
       "387      NaN      NaN      NaN  ...    1        S  104.111862       BC   \n",
       "388      NaN      NaN      NaN  ...   14        S  103.085487       BC   \n",
       "389      NaN      NaN      NaN  ...   33        S  102.544304       BC   \n",
       "390      NaN      NaN      NaN  ...   57        S  113.059998       BC   \n",
       "391      NaN      NaN      NaN  ...   89        S  110.176811       BC   \n",
       "..       ...      ...      ...  ...  ...      ...         ...      ...   \n",
       "844      NaN      NaN      NaN  ...  466        U   -0.000023      BCR   \n",
       "845      NaN      NaN      NaN  ...  249        B  107.368271       BC   \n",
       "846      NaN      NaN      NaN  ...  270        B  114.898140       BC   \n",
       "847      NaN      NaN      NaN  ...  323        B  103.934578       BC   \n",
       "848      NaN      NaN      NaN  ...  394        T  103.469976      BCR   \n",
       "\n",
       "     Campania  GlobalId  CultivoId      Tipo  start_year  end_year  \n",
       "387     18/19         1          1    soja_1        2018      2019  \n",
       "388     18/19        14          1    soja_1        2018      2019  \n",
       "389     18/19        33          1    soja_1        2018      2019  \n",
       "390     18/19        57          1    soja_1        2018      2019  \n",
       "391     18/19        89          1    soja_1        2018      2019  \n",
       "..        ...       ...        ...       ...         ...       ...  \n",
       "844     19/20      1448         24    urbano        2019      2020  \n",
       "845     19/20       799         11  barbecho        2019      2020  \n",
       "846     19/20       820         11  barbecho        2019      2020  \n",
       "847     19/20       873         11  barbecho        2019      2020  \n",
       "848     19/20      1376          5     trigo        2019      2020  \n",
       "\n",
       "[462 rows x 39 columns]"
      ]
     },
     "execution_count": 237,
     "metadata": {},
     "output_type": "execute_result"
    }
   ],
   "source": [
    "sep[sep[\"AOT_mean\"].isna()]"
   ]
  },
  {
   "cell_type": "code",
   "execution_count": null,
   "metadata": {},
   "outputs": [],
   "source": [
    "valid_dataset = sep[sep[\"AOT_mean\"].isna()].dropna(axis=1)"
   ]
  },
  {
   "cell_type": "code",
   "execution_count": 230,
   "metadata": {},
   "outputs": [
    {
     "data": {
      "text/html": [
       "<div>\n",
       "<style scoped>\n",
       "    .dataframe tbody tr th:only-of-type {\n",
       "        vertical-align: middle;\n",
       "    }\n",
       "\n",
       "    .dataframe tbody tr th {\n",
       "        vertical-align: top;\n",
       "    }\n",
       "\n",
       "    .dataframe thead th {\n",
       "        text-align: right;\n",
       "    }\n",
       "</style>\n",
       "<table border=\"1\" class=\"dataframe\">\n",
       "  <thead>\n",
       "    <tr style=\"text-align: right;\">\n",
       "      <th></th>\n",
       "      <th>Latitud</th>\n",
       "      <th>Longitud</th>\n",
       "      <th>elevacion</th>\n",
       "      <th>AOT_mean</th>\n",
       "      <th>B11_mean</th>\n",
       "      <th>B12_mean</th>\n",
       "      <th>B1_mean</th>\n",
       "      <th>B2_mean</th>\n",
       "      <th>B3_mean</th>\n",
       "      <th>B4_mean</th>\n",
       "      <th>...</th>\n",
       "      <th>Id</th>\n",
       "      <th>Cultivo</th>\n",
       "      <th>Elevacion</th>\n",
       "      <th>Dataset</th>\n",
       "      <th>Campania</th>\n",
       "      <th>GlobalId</th>\n",
       "      <th>CultivoId</th>\n",
       "      <th>Tipo</th>\n",
       "      <th>start_year</th>\n",
       "      <th>end_year</th>\n",
       "    </tr>\n",
       "  </thead>\n",
       "  <tbody>\n",
       "    <tr>\n",
       "      <th>0</th>\n",
       "      <td>-34.269763</td>\n",
       "      <td>-62.030811</td>\n",
       "      <td>113.319977</td>\n",
       "      <td>189.428571</td>\n",
       "      <td>2595.428571</td>\n",
       "      <td>1551.857143</td>\n",
       "      <td>363.285714</td>\n",
       "      <td>445.714286</td>\n",
       "      <td>805.857143</td>\n",
       "      <td>818.857143</td>\n",
       "      <td>...</td>\n",
       "      <td>313</td>\n",
       "      <td>N</td>\n",
       "      <td>113.319977</td>\n",
       "      <td>BCR</td>\n",
       "      <td>19/20</td>\n",
       "      <td>1295</td>\n",
       "      <td>10</td>\n",
       "      <td>campo_natural</td>\n",
       "      <td>2019</td>\n",
       "      <td>2020</td>\n",
       "    </tr>\n",
       "    <tr>\n",
       "      <th>1</th>\n",
       "      <td>-33.872757</td>\n",
       "      <td>-62.084742</td>\n",
       "      <td>105.427490</td>\n",
       "      <td>186.500000</td>\n",
       "      <td>1839.166667</td>\n",
       "      <td>890.166667</td>\n",
       "      <td>81.000000</td>\n",
       "      <td>213.500000</td>\n",
       "      <td>563.500000</td>\n",
       "      <td>307.833333</td>\n",
       "      <td>...</td>\n",
       "      <td>143</td>\n",
       "      <td>M</td>\n",
       "      <td>105.427490</td>\n",
       "      <td>BC</td>\n",
       "      <td>18/19</td>\n",
       "      <td>143</td>\n",
       "      <td>3</td>\n",
       "      <td>maiz_temp</td>\n",
       "      <td>2018</td>\n",
       "      <td>2019</td>\n",
       "    </tr>\n",
       "    <tr>\n",
       "      <th>2</th>\n",
       "      <td>-33.808925</td>\n",
       "      <td>-61.906541</td>\n",
       "      <td>101.965805</td>\n",
       "      <td>166.800000</td>\n",
       "      <td>2739.800000</td>\n",
       "      <td>1607.733333</td>\n",
       "      <td>336.533333</td>\n",
       "      <td>455.533333</td>\n",
       "      <td>760.000000</td>\n",
       "      <td>703.466667</td>\n",
       "      <td>...</td>\n",
       "      <td>314</td>\n",
       "      <td>S</td>\n",
       "      <td>101.965805</td>\n",
       "      <td>BC</td>\n",
       "      <td>19/20</td>\n",
       "      <td>864</td>\n",
       "      <td>1</td>\n",
       "      <td>soja_1</td>\n",
       "      <td>2019</td>\n",
       "      <td>2020</td>\n",
       "    </tr>\n",
       "    <tr>\n",
       "      <th>3</th>\n",
       "      <td>-33.702580</td>\n",
       "      <td>-61.617410</td>\n",
       "      <td>96.019977</td>\n",
       "      <td>153.500000</td>\n",
       "      <td>3104.875000</td>\n",
       "      <td>2538.250000</td>\n",
       "      <td>967.500000</td>\n",
       "      <td>1169.250000</td>\n",
       "      <td>1395.000000</td>\n",
       "      <td>1490.500000</td>\n",
       "      <td>...</td>\n",
       "      <td>436</td>\n",
       "      <td>U</td>\n",
       "      <td>96.019977</td>\n",
       "      <td>BCR</td>\n",
       "      <td>19/20</td>\n",
       "      <td>1418</td>\n",
       "      <td>24</td>\n",
       "      <td>urbano</td>\n",
       "      <td>2019</td>\n",
       "      <td>2020</td>\n",
       "    </tr>\n",
       "    <tr>\n",
       "      <th>4</th>\n",
       "      <td>-33.868182</td>\n",
       "      <td>-62.172699</td>\n",
       "      <td>104.783669</td>\n",
       "      <td>167.117647</td>\n",
       "      <td>2790.764706</td>\n",
       "      <td>1850.823529</td>\n",
       "      <td>406.764706</td>\n",
       "      <td>607.941176</td>\n",
       "      <td>993.058824</td>\n",
       "      <td>1083.588235</td>\n",
       "      <td>...</td>\n",
       "      <td>127</td>\n",
       "      <td>P</td>\n",
       "      <td>104.783669</td>\n",
       "      <td>BC</td>\n",
       "      <td>19/20</td>\n",
       "      <td>677</td>\n",
       "      <td>9</td>\n",
       "      <td>forrajes_pasturas_verdeos</td>\n",
       "      <td>2019</td>\n",
       "      <td>2020</td>\n",
       "    </tr>\n",
       "    <tr>\n",
       "      <th>...</th>\n",
       "      <td>...</td>\n",
       "      <td>...</td>\n",
       "      <td>...</td>\n",
       "      <td>...</td>\n",
       "      <td>...</td>\n",
       "      <td>...</td>\n",
       "      <td>...</td>\n",
       "      <td>...</td>\n",
       "      <td>...</td>\n",
       "      <td>...</td>\n",
       "      <td>...</td>\n",
       "      <td>...</td>\n",
       "      <td>...</td>\n",
       "      <td>...</td>\n",
       "      <td>...</td>\n",
       "      <td>...</td>\n",
       "      <td>...</td>\n",
       "      <td>...</td>\n",
       "      <td>...</td>\n",
       "      <td>...</td>\n",
       "      <td>...</td>\n",
       "    </tr>\n",
       "    <tr>\n",
       "      <th>844</th>\n",
       "      <td>-33.791834</td>\n",
       "      <td>-61.210180</td>\n",
       "      <td>NaN</td>\n",
       "      <td>NaN</td>\n",
       "      <td>NaN</td>\n",
       "      <td>NaN</td>\n",
       "      <td>NaN</td>\n",
       "      <td>NaN</td>\n",
       "      <td>NaN</td>\n",
       "      <td>NaN</td>\n",
       "      <td>...</td>\n",
       "      <td>466</td>\n",
       "      <td>U</td>\n",
       "      <td>-0.000023</td>\n",
       "      <td>BCR</td>\n",
       "      <td>19/20</td>\n",
       "      <td>1448</td>\n",
       "      <td>24</td>\n",
       "      <td>urbano</td>\n",
       "      <td>2019</td>\n",
       "      <td>2020</td>\n",
       "    </tr>\n",
       "    <tr>\n",
       "      <th>845</th>\n",
       "      <td>-33.931952</td>\n",
       "      <td>-62.100384</td>\n",
       "      <td>NaN</td>\n",
       "      <td>NaN</td>\n",
       "      <td>NaN</td>\n",
       "      <td>NaN</td>\n",
       "      <td>NaN</td>\n",
       "      <td>NaN</td>\n",
       "      <td>NaN</td>\n",
       "      <td>NaN</td>\n",
       "      <td>...</td>\n",
       "      <td>249</td>\n",
       "      <td>B</td>\n",
       "      <td>107.368271</td>\n",
       "      <td>BC</td>\n",
       "      <td>19/20</td>\n",
       "      <td>799</td>\n",
       "      <td>11</td>\n",
       "      <td>barbecho</td>\n",
       "      <td>2019</td>\n",
       "      <td>2020</td>\n",
       "    </tr>\n",
       "    <tr>\n",
       "      <th>846</th>\n",
       "      <td>-33.651820</td>\n",
       "      <td>-62.302571</td>\n",
       "      <td>NaN</td>\n",
       "      <td>NaN</td>\n",
       "      <td>NaN</td>\n",
       "      <td>NaN</td>\n",
       "      <td>NaN</td>\n",
       "      <td>NaN</td>\n",
       "      <td>NaN</td>\n",
       "      <td>NaN</td>\n",
       "      <td>...</td>\n",
       "      <td>270</td>\n",
       "      <td>B</td>\n",
       "      <td>114.898140</td>\n",
       "      <td>BC</td>\n",
       "      <td>19/20</td>\n",
       "      <td>820</td>\n",
       "      <td>11</td>\n",
       "      <td>barbecho</td>\n",
       "      <td>2019</td>\n",
       "      <td>2020</td>\n",
       "    </tr>\n",
       "    <tr>\n",
       "      <th>847</th>\n",
       "      <td>-33.812640</td>\n",
       "      <td>-61.873674</td>\n",
       "      <td>NaN</td>\n",
       "      <td>NaN</td>\n",
       "      <td>NaN</td>\n",
       "      <td>NaN</td>\n",
       "      <td>NaN</td>\n",
       "      <td>NaN</td>\n",
       "      <td>NaN</td>\n",
       "      <td>NaN</td>\n",
       "      <td>...</td>\n",
       "      <td>323</td>\n",
       "      <td>B</td>\n",
       "      <td>103.934578</td>\n",
       "      <td>BC</td>\n",
       "      <td>19/20</td>\n",
       "      <td>873</td>\n",
       "      <td>11</td>\n",
       "      <td>barbecho</td>\n",
       "      <td>2019</td>\n",
       "      <td>2020</td>\n",
       "    </tr>\n",
       "    <tr>\n",
       "      <th>848</th>\n",
       "      <td>-33.812474</td>\n",
       "      <td>-61.753666</td>\n",
       "      <td>NaN</td>\n",
       "      <td>NaN</td>\n",
       "      <td>NaN</td>\n",
       "      <td>NaN</td>\n",
       "      <td>NaN</td>\n",
       "      <td>NaN</td>\n",
       "      <td>NaN</td>\n",
       "      <td>NaN</td>\n",
       "      <td>...</td>\n",
       "      <td>394</td>\n",
       "      <td>T</td>\n",
       "      <td>103.469976</td>\n",
       "      <td>BCR</td>\n",
       "      <td>19/20</td>\n",
       "      <td>1376</td>\n",
       "      <td>5</td>\n",
       "      <td>trigo</td>\n",
       "      <td>2019</td>\n",
       "      <td>2020</td>\n",
       "    </tr>\n",
       "  </tbody>\n",
       "</table>\n",
       "<p>849 rows × 39 columns</p>\n",
       "</div>"
      ],
      "text/plain": [
       "       Latitud   Longitud   elevacion    AOT_mean     B11_mean     B12_mean  \\\n",
       "0   -34.269763 -62.030811  113.319977  189.428571  2595.428571  1551.857143   \n",
       "1   -33.872757 -62.084742  105.427490  186.500000  1839.166667   890.166667   \n",
       "2   -33.808925 -61.906541  101.965805  166.800000  2739.800000  1607.733333   \n",
       "3   -33.702580 -61.617410   96.019977  153.500000  3104.875000  2538.250000   \n",
       "4   -33.868182 -62.172699  104.783669  167.117647  2790.764706  1850.823529   \n",
       "..         ...        ...         ...         ...          ...          ...   \n",
       "844 -33.791834 -61.210180         NaN         NaN          NaN          NaN   \n",
       "845 -33.931952 -62.100384         NaN         NaN          NaN          NaN   \n",
       "846 -33.651820 -62.302571         NaN         NaN          NaN          NaN   \n",
       "847 -33.812640 -61.873674         NaN         NaN          NaN          NaN   \n",
       "848 -33.812474 -61.753666         NaN         NaN          NaN          NaN   \n",
       "\n",
       "        B1_mean      B2_mean      B3_mean      B4_mean  ...   Id  Cultivo  \\\n",
       "0    363.285714   445.714286   805.857143   818.857143  ...  313        N   \n",
       "1     81.000000   213.500000   563.500000   307.833333  ...  143        M   \n",
       "2    336.533333   455.533333   760.000000   703.466667  ...  314        S   \n",
       "3    967.500000  1169.250000  1395.000000  1490.500000  ...  436        U   \n",
       "4    406.764706   607.941176   993.058824  1083.588235  ...  127        P   \n",
       "..          ...          ...          ...          ...  ...  ...      ...   \n",
       "844         NaN          NaN          NaN          NaN  ...  466        U   \n",
       "845         NaN          NaN          NaN          NaN  ...  249        B   \n",
       "846         NaN          NaN          NaN          NaN  ...  270        B   \n",
       "847         NaN          NaN          NaN          NaN  ...  323        B   \n",
       "848         NaN          NaN          NaN          NaN  ...  394        T   \n",
       "\n",
       "      Elevacion  Dataset  Campania  GlobalId  CultivoId  \\\n",
       "0    113.319977      BCR     19/20      1295         10   \n",
       "1    105.427490       BC     18/19       143          3   \n",
       "2    101.965805       BC     19/20       864          1   \n",
       "3     96.019977      BCR     19/20      1418         24   \n",
       "4    104.783669       BC     19/20       677          9   \n",
       "..          ...      ...       ...       ...        ...   \n",
       "844   -0.000023      BCR     19/20      1448         24   \n",
       "845  107.368271       BC     19/20       799         11   \n",
       "846  114.898140       BC     19/20       820         11   \n",
       "847  103.934578       BC     19/20       873         11   \n",
       "848  103.469976      BCR     19/20      1376          5   \n",
       "\n",
       "                          Tipo  start_year  end_year  \n",
       "0                campo_natural        2019      2020  \n",
       "1                    maiz_temp        2018      2019  \n",
       "2                       soja_1        2019      2020  \n",
       "3                       urbano        2019      2020  \n",
       "4    forrajes_pasturas_verdeos        2019      2020  \n",
       "..                         ...         ...       ...  \n",
       "844                     urbano        2019      2020  \n",
       "845                   barbecho        2019      2020  \n",
       "846                   barbecho        2019      2020  \n",
       "847                   barbecho        2019      2020  \n",
       "848                      trigo        2019      2020  \n",
       "\n",
       "[849 rows x 39 columns]"
      ]
     },
     "execution_count": 230,
     "metadata": {},
     "output_type": "execute_result"
    }
   ],
   "source": [
    "sep"
   ]
  },
  {
   "cell_type": "code",
   "execution_count": 18,
   "metadata": {},
   "outputs": [],
   "source": [
    "thread_pool = ThreadPool(8)\n",
    "info = train.to_dict(orient=\"records\")\n",
    "data_temp = thread_pool.map(get_bands_info, info)"
   ]
  },
  {
   "cell_type": "code",
   "execution_count": 30,
   "metadata": {},
   "outputs": [],
   "source": [
    "data_temp_2 = thread_pool.map(get_bands_info, info)"
   ]
  },
  {
   "cell_type": "code",
   "execution_count": 37,
   "metadata": {},
   "outputs": [],
   "source": [
    "data_temp_3 = thread_pool.map(get_bands_info, info)"
   ]
  },
  {
   "cell_type": "code",
   "execution_count": 47,
   "metadata": {},
   "outputs": [],
   "source": [
    "data_temp_4 = thread_pool.map(get_bands_info, info)"
   ]
  },
  {
   "cell_type": "code",
   "execution_count": 56,
   "metadata": {},
   "outputs": [],
   "source": [
    "data_temp_5 = thread_pool.map(get_bands_info, info)"
   ]
  },
  {
   "cell_type": "code",
   "execution_count": 57,
   "metadata": {},
   "outputs": [],
   "source": [
    "data_df = pd.DataFrame(data_temp_5)"
   ]
  },
  {
   "cell_type": "code",
   "execution_count": 88,
   "metadata": {},
   "outputs": [],
   "source": [
    "thread_pool = ThreadPool(8)\n",
    "info = train_dataset.to_dict(orient=\"records\")\n",
    "data = thread_pool.map(data_augmentation, info)"
   ]
  },
  {
   "cell_type": "code",
   "execution_count": 93,
   "metadata": {},
   "outputs": [],
   "source": [
    "train_augmented = pd.DataFrame(list(itertools.chain.from_iterable(data)))\n",
    "train_augmented.to_csv(\"train_v4_augmented.csv\", index=False)"
   ]
  },
  {
   "cell_type": "code",
   "execution_count": 50,
   "metadata": {},
   "outputs": [],
   "source": [
    "thread_pool = ThreadPool(8)"
   ]
  },
  {
   "cell_type": "code",
   "execution_count": null,
   "metadata": {},
   "outputs": [],
   "source": [
    "valid_info = valid_dataset.to_dict(orient=\"records\")\n",
    "data_valid = thread_pool.map(data_augmentation, valid_info)\n",
    "valid_augmented = pd.DataFrame(list(itertools.chain.from_iterable(data_valid)))\n",
    "valid_augmented.to_csv(\"valid_v3_augmented.csv\", index=False)"
   ]
  },
  {
   "cell_type": "code",
   "execution_count": null,
   "metadata": {},
   "outputs": [],
   "source": [
    "train_augmented.boxplot([col for col in train_augmented if col.startswith('B')], by=\"etiqueta\", figsize=(15,6));"
   ]
  },
  {
   "cell_type": "code",
   "execution_count": 53,
   "metadata": {},
   "outputs": [],
   "source": [
    "def process_features(dataset, label=None):\n",
    "    df = dataset.copy()\n",
    "    df[\"NDVI_mean\"] = (df[\"B8_mean\"] - df[\"B4_mean\"]) / (df[\"B8_mean\"] + df[\"B4_mean\"])\n",
    "    df[\"GNDVI_mean\"] = (df[\"B8_mean\"] - df[\"B3_mean\"]) / (df[\"B8_mean\"] + df[\"B3_mean\"])\n",
    "    df[\"SAVI_mean\"] = (\n",
    "        (df[\"B8_mean\"] - df[\"B4_mean\"])\n",
    "        / (df[\"B8_mean\"] + df[\"B4_mean\"] + 0.428)\n",
    "        * (1.428)\n",
    "    )\n",
    "    df[\"NDMI_mean\"] = (df[\"B8_mean\"] - df[\"B11_mean\"]) / (\n",
    "        df[\"B8_mean\"] + df[\"B11_mean\"]\n",
    "    )\n",
    "    df[\"MSI_mean\"] = df[\"B11_mean\"] / df[\"B8_mean\"]\n",
    "    df[\"GCI_mean\"] = (df[\"B9_mean\"] / df[\"B3_mean\"]) - 1\n",
    "    df[\"BSI_mean\"] = (\n",
    "        (df[\"B11_mean\"] + df[\"B4_mean\"]) - (df[\"B8_mean\"] + df[\"B2_mean\"])\n",
    "    ) / ((df[\"B11_mean\"] + df[\"B4_mean\"]) + (df[\"B8_mean\"] + df[\"B2_mean\"]))\n",
    "    for value in np.arange(0, 1.0, 0.4):\n",
    "        df[f\"NDVI_mean<{value}\"] = np.where(df[\"NDVI_mean\"] < value, 1, 0)\n",
    "    X_cols = [col for col in df if col.endswith(\"mean\")] + [\"elevacion\"]\n",
    "    X = df[X_cols]\n",
    "    y = np.array(df[label]) if label else None\n",
    "    return X, y"
   ]
  },
  {
   "cell_type": "code",
   "execution_count": null,
   "metadata": {},
   "outputs": [],
   "source": [
    "def is_outlier(s):\n",
    "    lower_limit = s.mean() - (s.std() * 1.2)\n",
    "    upper_limit = s.mean() + (s.std() * 1.2)\n",
    "    return ~s.between(lower_limit, upper_limit)"
   ]
  },
  {
   "cell_type": "code",
   "execution_count": 244,
   "metadata": {},
   "outputs": [],
   "source": [
    "train_augmented = pd.read_csv(\"train_v4_augmented.csv\")\n",
    "valid_augmented = pd.read_csv(\"valid_v4_augmented.csv\")"
   ]
  },
  {
   "cell_type": "code",
   "execution_count": 221,
   "metadata": {},
   "outputs": [],
   "source": [
    "train_augmented = train_augmented.query(\"cultivo != 23\")\n",
    "valid_augmented = valid_augmented.query(\"cultivo != 23\")"
   ]
  },
  {
   "cell_type": "code",
   "execution_count": 247,
   "metadata": {},
   "outputs": [
    {
     "data": {
      "text/plain": [
       "1     17200\n",
       "3     10500\n",
       "2      4400\n",
       "10     4100\n",
       "9      2800\n",
       "23     1700\n",
       "24      600\n",
       "11      300\n",
       "8       300\n",
       "4       200\n",
       "19      100\n",
       "15      100\n",
       "7       100\n",
       "5       100\n",
       "Name: cultivo, dtype: int64"
      ]
     },
     "execution_count": 247,
     "metadata": {},
     "output_type": "execute_result"
    }
   ],
   "source": [
    "train_augmented[\"cultivo\"].value_counts()"
   ]
  },
  {
   "cell_type": "code",
   "execution_count": 246,
   "metadata": {},
   "outputs": [
    {
     "data": {
      "text/plain": [
       "1     18500\n",
       "3     11700\n",
       "2      5200\n",
       "10     4400\n",
       "9      2800\n",
       "23     1800\n",
       "24      600\n",
       "8       400\n",
       "11      300\n",
       "4       200\n",
       "19      100\n",
       "15      100\n",
       "5       100\n",
       "Name: cultivo, dtype: int64"
      ]
     },
     "execution_count": 246,
     "metadata": {},
     "output_type": "execute_result"
    }
   ],
   "source": [
    "valid_augmented[\"cultivo\"].value_counts()"
   ]
  },
  {
   "cell_type": "code",
   "execution_count": 248,
   "metadata": {},
   "outputs": [],
   "source": [
    "train_augmented.drop(\n",
    "    [\"MSK_SNWPRB_mean\", \"QA10_mean\", \"QA20_mean\"], axis=1, inplace=True\n",
    ")\n",
    "valid_augmented.drop(\n",
    "    [\"MSK_SNWPRB_mean\", \"QA10_mean\", \"QA20_mean\"], axis=1, inplace=True\n",
    ")"
   ]
  },
  {
   "cell_type": "code",
   "execution_count": 249,
   "metadata": {},
   "outputs": [],
   "source": [
    "X_train_augmented, y_train_augmented = process_features(\n",
    "    train_augmented, label=\"cultivo\"\n",
    ")"
   ]
  },
  {
   "cell_type": "code",
   "execution_count": 250,
   "metadata": {},
   "outputs": [],
   "source": [
    "X_valid_augmented, y_valid_augmented = process_features(\n",
    "    valid_augmented, label=\"cultivo\"\n",
    ")"
   ]
  },
  {
   "cell_type": "code",
   "execution_count": 157,
   "metadata": {},
   "outputs": [],
   "source": [
    "new_df = X_train_augmented.copy()\n",
    "new_df[\"cultivo\"] = y_train_augmented\n",
    "train_no_outliers = new_df[~new_df.groupby(\"cultivo\")[\"NDVI_mean\"].apply(is_outlier)]\n",
    "train_no_outliers = train_no_outliers.query(\"cultivo != 23\")\n",
    "\n",
    "new_df = X_valid_augmented.copy()\n",
    "new_df[\"cultivo\"] = y_valid_augmented\n",
    "#valid_no_outliers = new_df[~new_df.groupby(\"cultivo\")[\"NDVI_mean\"].apply(is_outlier)]\n",
    "valid_no_outliers = valid_no_outliers.query(\"cultivo != 23\")\n",
    "\n",
    "X_train_augmented, y_train_augmented = process_features(\n",
    "    train_no_outliers, label=\"cultivo\"\n",
    ")\n",
    "\n",
    "X_valid_augmented, y_valid_augmented = process_features(\n",
    "    valid_no_outliers, label=\"cultivo\"\n",
    ")"
   ]
  },
  {
   "cell_type": "code",
   "execution_count": null,
   "metadata": {},
   "outputs": [],
   "source": [
    "fechas_cosecha = {\n",
    "    \"alfalfa\": (\"%s-09-01\", \"%s-12-31\"),\n",
    "    \"sorgo\": (\"%s-02-01\", \"%s-03-31\"),\n",
    "    \"maiz_temp\": (\"%s-01-01\", \"%s-01-31\"),\n",
    "    \"maiz_tard_o_2da\": (\"%s-01-15\", \"%s-02-15\"),\n",
    "    \"soja_1\": (\"%s-01-01\", \"%s-02-28\"),\n",
    "    \"girasol\": (\"%s-01-01\", \"%s-02-28\"),\n",
    "    \"soja_2\": (\"%s-02-01\", \"%s-03-31\"),\n",
    "    \"trigo\": (\"%s-01-01\", \"%s-02-28\"),\n",
    "    \"barbecho\": (\"%s-04-01\", \"%s-05-30\"),\n",
    "    \"campo_natural\": (\"%s-04-01\", \"%s-05-30\"),\n",
    "    \"forrajes_pasturas_verdeos\": (\"%s-04-01\", \"%s-05-30\"),\n",
    "    \"urbano\": (\"%s-07-01\", \"%s-08-31\"),\n",
    "    \"no_sabe\": (\"%s-07-01\", \"%s-08-31\"),\n",
    "    \"agua\": (\"%s-07-01\", \"%s-08-31\"),\n",
    "}"
   ]
  },
  {
   "cell_type": "code",
   "execution_count": 43,
   "metadata": {},
   "outputs": [
    {
     "data": {
      "text/plain": [
       "soja_1                       344\n",
       "maiz_temp                    210\n",
       "soja_2                        89\n",
       "campo_natural                 82\n",
       "forrajes_pasturas_verdeos     55\n",
       "no_sabe                       34\n",
       "urbano                        12\n",
       "barbecho                       6\n",
       "sorgo                          6\n",
       "maiz_tard_o_2da                4\n",
       "trigo                          2\n",
       "agua                           2\n",
       "alfalfa                        2\n",
       "girasol                        1\n",
       "Name: cultivo, dtype: int64"
      ]
     },
     "execution_count": 43,
     "metadata": {},
     "output_type": "execute_result"
    }
   ],
   "source": [
    "data_df[\"cultivo\"].value_counts()"
   ]
  },
  {
   "cell_type": "code",
   "execution_count": 105,
   "metadata": {},
   "outputs": [
    {
     "data": {
      "text/plain": [
       "<matplotlib.axes._subplots.AxesSubplot at 0x7fbab0a49cc0>"
      ]
     },
     "execution_count": 105,
     "metadata": {},
     "output_type": "execute_result"
    },
    {
     "data": {
      "image/png": "[encoded data removed]",
      "text/plain": [
       "<Figure size 1584x576 with 1 Axes>"
      ]
     },
     "metadata": {
      "needs_background": "light"
     },
     "output_type": "display_data"
    }
   ],
   "source": [
    "X_train_augmented[\"cultivo\"] = train_augmented[\"etiqueta\"]\n",
    "X_train_augmented.boxplot(\"NDVI_mean\", by=\"cultivo\", figsize=(22, 8))"
   ]
  },
  {
   "cell_type": "code",
   "execution_count": 60,
   "metadata": {},
   "outputs": [
    {
     "data": {
      "text/plain": [
       "<matplotlib.axes._subplots.AxesSubplot at 0x7fbb700be7f0>"
      ]
     },
     "execution_count": 60,
     "metadata": {},
     "output_type": "execute_result"
    },
    {
     "data": {
      "image/png": "[encoded data removed]",
      "text/plain": [
       "<Figure size 1584x576 with 1 Axes>"
      ]
     },
     "metadata": {
      "needs_background": "light"
     },
     "output_type": "display_data"
    }
   ],
   "source": [
    "X_train_augmented.boxplot(\"NDVI_mean\", by=\"cultivo\", figsize=(22, 8))"
   ]
  },
  {
   "cell_type": "code",
   "execution_count": 51,
   "metadata": {},
   "outputs": [
    {
     "data": {
      "text/plain": [
       "<matplotlib.axes._subplots.AxesSubplot at 0x7fbb70379080>"
      ]
     },
     "execution_count": 51,
     "metadata": {},
     "output_type": "execute_result"
    },
    {
     "data": {
      "image/png": "[encoded data removed]",
      "text/plain": [
       "<Figure size 1584x576 with 1 Axes>"
      ]
     },
     "metadata": {
      "needs_background": "light"
     },
     "output_type": "display_data"
    }
   ],
   "source": [
    "X_train_augmented.boxplot(\"NDVI_mean\", by=\"cultivo\", figsize=(22, 8))"
   ]
  },
  {
   "cell_type": "code",
   "execution_count": 34,
   "metadata": {},
   "outputs": [
    {
     "data": {
      "text/plain": [
       "<matplotlib.axes._subplots.AxesSubplot at 0x7fbb880605c0>"
      ]
     },
     "execution_count": 34,
     "metadata": {},
     "output_type": "execute_result"
    },
    {
     "data": {
      "image/png": "[encoded data removed]",
      "text/plain": [
       "<Figure size 1584x576 with 1 Axes>"
      ]
     },
     "metadata": {
      "needs_background": "light"
     },
     "output_type": "display_data"
    }
   ],
   "source": [
    "X_train_augmented.boxplot(\"NDVI_mean\", by=\"cultivo\", figsize=(22, 8))"
   ]
  },
  {
   "cell_type": "code",
   "execution_count": 26,
   "metadata": {},
   "outputs": [
    {
     "data": {
      "text/plain": [
       "<matplotlib.axes._subplots.AxesSubplot at 0x7fbb887ecba8>"
      ]
     },
     "execution_count": 26,
     "metadata": {},
     "output_type": "execute_result"
    },
    {
     "data": {
      "image/png": "[encoded data removed]",
      "text/plain": [
       "<Figure size 1584x576 with 1 Axes>"
      ]
     },
     "metadata": {
      "needs_background": "light"
     },
     "output_type": "display_data"
    }
   ],
   "source": [
    "X_train_augmented.boxplot(\"NDVI_mean\", by=\"cultivo\", figsize=(22, 8))"
   ]
  },
  {
   "cell_type": "markdown",
   "metadata": {},
   "source": [
    "## **SKLEARM**"
   ]
  },
  {
   "cell_type": "code",
   "execution_count": 105,
   "metadata": {},
   "outputs": [],
   "source": [
    "from sklearn.metrics import confusion_matrix, classification_report\n",
    "import matplotlib.pyplot as plt\n",
    "import seaborn as sns\n",
    "import numpy as np\n",
    "from imblearn.pipeline import Pipeline as imPipeline\n",
    "from imblearn.over_sampling import SMOTE"
   ]
  },
  {
   "cell_type": "code",
   "execution_count": 295,
   "metadata": {},
   "outputs": [],
   "source": [
    "from sklearn.metrics import balanced_accuracy_score"
   ]
  },
  {
   "cell_type": "code",
   "execution_count": 310,
   "metadata": {},
   "outputs": [
    {
     "data": {
      "text/plain": [
       "0.07142857142857142"
      ]
     },
     "execution_count": 310,
     "metadata": {},
     "output_type": "execute_result"
    }
   ],
   "source": [
    "1 / 14"
   ]
  },
  {
   "cell_type": "code",
   "execution_count": 303,
   "metadata": {},
   "outputs": [
    {
     "data": {
      "text/plain": [
       "0.14285714285714285"
      ]
     },
     "execution_count": 303,
     "metadata": {},
     "output_type": "execute_result"
    }
   ],
   "source": [
    "balanced_accuracy_score([1, 2, 3, 4, 5, 6, 7], [1, 1, 1, 1, 1, 1, 1])"
   ]
  },
  {
   "cell_type": "code",
   "execution_count": 190,
   "metadata": {},
   "outputs": [
    {
     "data": {
      "text/plain": [
       "Pipeline(steps=[('estimator', RandomForestClassifier(n_jobs=-1))])"
      ]
     },
     "execution_count": 190,
     "metadata": {},
     "output_type": "execute_result"
    }
   ],
   "source": [
    "sbalanced_accuracy_score (\"estimator\", RandomForestClassifier(n_jobs=-1)),\n",
    "]\n",
    "pipe = Pipeline(steps=steps)\n",
    "pipe.fit(X_train_augmented, y_train_augmented)"
   ]
  },
  {
   "cell_type": "code",
   "execution_count": 191,
   "metadata": {},
   "outputs": [
    {
     "name": "stdout",
     "output_type": "stream",
     "text": [
      "              precision    recall  f1-score   support\n",
      "\n",
      "           1       0.98      1.00      0.99      9417\n",
      "           2       0.94      0.96      0.95      2319\n",
      "           3       0.95      0.94      0.94      4503\n",
      "           4       0.00      0.00      0.00       105\n",
      "           5       0.00      0.00      0.00        45\n",
      "           8       0.00      0.00      0.00       194\n",
      "           9       0.69      0.72      0.70      1171\n",
      "          10       0.72      0.80      0.76      1985\n",
      "          11       0.00      0.00      0.00       125\n",
      "          15       0.98      1.00      0.99        40\n",
      "          19       1.00      1.00      1.00        37\n",
      "          24       0.93      0.42      0.58       238\n",
      "\n",
      "    accuracy                           0.92     20179\n",
      "   macro avg       0.60      0.57      0.58     20179\n",
      "weighted avg       0.90      0.92      0.91     20179\n",
      "\n"
     ]
    }
   ],
   "source": [
    "print(classification_report(y_valid_augmented, pipe.predict(X_valid_augmented)))"
   ]
  },
  {
   "cell_type": "code",
   "execution_count": 108,
   "metadata": {},
   "outputs": [],
   "source": [
    "preds = pipe.predict(X_valid_augmented)"
   ]
  },
  {
   "cell_type": "code",
   "execution_count": 111,
   "metadata": {},
   "outputs": [
    {
     "data": {
      "text/plain": [
       "1     20522\n",
       "3     10056\n",
       "10     5979\n",
       "2      4106\n",
       "9      3573\n",
       "23      820\n",
       "24      622\n",
       "15      266\n",
       "8        97\n",
       "19       96\n",
       "11       37\n",
       "4        20\n",
       "5         6\n",
       "dtype: int64"
      ]
     },
     "execution_count": 111,
     "metadata": {},
     "output_type": "execute_result"
    }
   ],
   "source": [
    "pd.Series(preds).value_counts()"
   ]
  },
  {
   "cell_type": "code",
   "execution_count": null,
   "metadata": {},
   "outputs": [],
   "source": [
    "# Generamos las etiquetas predichas por nuestra red\n",
    "y_pred = pipe.predict(X_valid_augmented)\n",
    "test_pred = encoder.inverse_transform(np.argmax(y_pred, axis=1))\n",
    "test_labels_ = y_valid_augmented\n",
    "\n",
    "# Confusion Matrix\n",
    "fig, ax = plt.subplots(figsize=(10, 10))\n",
    "conf_matrix = confusion_matrix(test_labels_, test_pred)\n",
    "conf_matrix = conf_matrix / np.sum(conf_matrix, axis=1)\n",
    "\n",
    "sns.heatmap(\n",
    "    conf_matrix, annot=True, fmt=\".2f\", square=True, cbar=False, cmap=plt.cm.jet, ax=ax\n",
    ")\n",
    "ax.set_ylabel(\"Actual\")\n",
    "ax.set_xlabel(\"Predicted\")\n",
    "ax.set_title(\"Confusion Matrix\")\n",
    "plt.show()\n",
    "\n",
    "print(\"Classification Report:\")\n",
    "print(classification_report(test_labels_, test_pred))"
   ]
  },
  {
   "cell_type": "code",
   "execution_count": 192,
   "metadata": {},
   "outputs": [],
   "source": [
    "test_final = pd.read_csv(\"test_data_v4.csv\")\n",
    "X_final, _ = process_features(test_final)\n",
    "X_final = X_final.drop([\"MSK_SNWPRB_mean\", \"QA10_mean\", \"QA20_mean\"], axis=1)"
   ]
  },
  {
   "cell_type": "code",
   "execution_count": 193,
   "metadata": {},
   "outputs": [],
   "source": [
    "preds = pipe.predict(X_final)"
   ]
  },
  {
   "cell_type": "code",
   "execution_count": 200,
   "metadata": {},
   "outputs": [],
   "source": [
    "qq = test.copy()\n",
    "qq[\"preds\"] = preds"
   ]
  },
  {
   "cell_type": "code",
   "execution_count": 204,
   "metadata": {},
   "outputs": [
    {
     "data": {
      "text/plain": [
       "1     181\n",
       "10     95\n",
       "2      84\n",
       "3      60\n",
       "9      54\n",
       "7      34\n",
       "11     23\n",
       "24     12\n",
       "15      8\n",
       "4       3\n",
       "5       1\n",
       "dtype: int64"
      ]
     },
     "execution_count": 204,
     "metadata": {},
     "output_type": "execute_result"
    }
   ],
   "source": [
    "pd.Series(preds).value_counts()"
   ]
  },
  {
   "cell_type": "code",
   "execution_count": 231,
   "metadata": {},
   "outputs": [],
   "source": [
    "qq[[\"GlobalId\", \"preds\"]].to_csv(\n",
    "    \"preds_sadosky_nn_point_data_mean_SMOTE_test_RF.csv\", header=None, index=False\n",
    ")"
   ]
  },
  {
   "cell_type": "code",
   "execution_count": null,
   "metadata": {},
   "outputs": [],
   "source": [
    "qq = test.copy()\n",
    "qq[\"preds\"] = encoder.inverse_transform(np.argmax(preds, axis=1))\n",
    "\n",
    "qq[[\"GlobalId\", \"preds\"]].to_csv(\n",
    "    \"preds_sadosky_nn_point_data_mean_SMOTE_test_v1.csv\", header=None, index=False\n",
    ")"
   ]
  },
  {
   "cell_type": "markdown",
   "metadata": {},
   "source": [
    "## **NN**"
   ]
  },
  {
   "cell_type": "code",
   "execution_count": 116,
   "metadata": {},
   "outputs": [],
   "source": [
    "import tensorflow\n",
    "import keras\n",
    "from keras.models import Sequential\n",
    "from keras.layers import (\n",
    "    Dense,\n",
    "    Activation,\n",
    "    Conv1D,\n",
    "    MaxPooling1D,\n",
    "    Flatten,\n",
    "    Dropout,\n",
    "    BatchNormalization,\n",
    ")\n",
    "from keras import regularizers, initializers"
   ]
  },
  {
   "cell_type": "code",
   "execution_count": null,
   "metadata": {},
   "outputs": [],
   "source": [
    "from pandas_profiling import ProfileReport\n",
    "report = ProfileReport(X_train_augmented, title=\"Revision Features\", minimal=True)\n",
    "report.to_notebook_iframe();"
   ]
  },
  {
   "cell_type": "markdown",
   "metadata": {},
   "source": [
    "Always standardize AFTER generating PolynomialFeatures. 1.) Loss of signal. When you create feature interactions, you're generating values that are multiples and squares of themselves."
   ]
  },
  {
   "cell_type": "code",
   "execution_count": 257,
   "metadata": {},
   "outputs": [],
   "source": [
    "sc_X = StandardScaler()\n",
    "X_encoded_train = sc_X.fit_transform(X_train_augmented)\n",
    "X_encoded_valid = sc_X.transform(X_valid_augmented)\n",
    "\n",
    "oversample = SMOTE()\n",
    "X_train_balanced, y_train_balanced = oversample.fit_resample(\n",
    "    X_encoded_train, y_train_augmented\n",
    ")\n",
    "\n",
    "# encode class values as integers\n",
    "encoder = LabelEncoder()\n",
    "encoded_Y_train = encoder.fit_transform(y_train_augmented)\n",
    "encoded_Y_train_balanced = encoder.fit_transform(y_train_balanced)\n",
    "encoded_Y_valid = encoder.transform(y_valid_augmented)\n",
    "# convert integers to dummy variables (i.e. one hot encoded)\n",
    "dummy_y_train = keras.utils.to_categorical(encoded_Y_train)\n",
    "dummy_y_train_balanced = keras.utils.to_categorical(encoded_Y_train_balanced)\n",
    "dummy_y_valid = keras.utils.to_categorical(encoded_Y_valid)"
   ]
  },
  {
   "cell_type": "code",
   "execution_count": null,
   "metadata": {},
   "outputs": [],
   "source": [
    "sc_X = StandardScaler()\n",
    "poly_feats = PolynomialFeatures(degree=2)\n",
    "\n",
    "X_train_poly = poly_feats.fit_transform(X_train_augmented)\n",
    "X_valid_poly = poly_feats.transform(X_valid_augmented)\n",
    "\n",
    "X_encoded_train_poly = sc_X.fit_transform(X_train_poly)\n",
    "X_encoded_valid_poly = sc_X.transform(X_valid_poly)\n",
    "\n",
    "oversample = SMOTE()\n",
    "X_train_balanced, y_train_balanced = oversample.fit_resample(\n",
    "    X_encoded_train_poly, y_train_augmented\n",
    ")\n",
    "\n",
    "# encode class values as integers\n",
    "encoder = LabelEncoder()\n",
    "encoded_Y_train = encoder.fit_transform(y_train_augmented)\n",
    "encoded_Y_train_balanced = encoder.fit_transform(y_train_balanced)\n",
    "encoded_Y_valid = encoder.transform(y_valid_augmented)\n",
    "# convert integers to dummy variables (i.e. one hot encoded)\n",
    "dummy_y_train = keras.utils.to_categorical(encoded_Y_train)\n",
    "dummy_y_train_balanced = keras.utils.to_categorical(encoded_Y_train_balanced)\n",
    "dummy_y_valid = keras.utils.to_categorical(encoded_Y_valid)"
   ]
  },
  {
   "cell_type": "code",
   "execution_count": 258,
   "metadata": {},
   "outputs": [],
   "source": [
    "n_classes = dummy_y_train.shape[1]"
   ]
  },
  {
   "cell_type": "code",
   "execution_count": 259,
   "metadata": {},
   "outputs": [
    {
     "data": {
      "text/plain": [
       "14"
      ]
     },
     "execution_count": 259,
     "metadata": {},
     "output_type": "execute_result"
    }
   ],
   "source": [
    "n_classes"
   ]
  },
  {
   "cell_type": "code",
   "execution_count": 260,
   "metadata": {},
   "outputs": [],
   "source": [
    "from keras import backend as K\n",
    "\n",
    "\n",
    "def recall_m(y_true, y_pred):\n",
    "    true_positives = K.sum(K.round(K.clip(y_true * y_pred, 0, 1)))\n",
    "    possible_positives = K.sum(K.round(K.clip(y_true, 0, 1)))\n",
    "    recall = true_positives / (possible_positives + K.epsilon())\n",
    "    return recall\n",
    "\n",
    "\n",
    "def precision_m(y_true, y_pred):\n",
    "    true_positives = K.sum(K.round(K.clip(y_true * y_pred, 0, 1)))\n",
    "    predicted_positives = K.sum(K.round(K.clip(y_pred, 0, 1)))\n",
    "    precision = true_positives / (predicted_positives + K.epsilon())\n",
    "    return precision\n",
    "\n",
    "\n",
    "def f1_m(y_true, y_pred):\n",
    "    precision = precision_m(y_true, y_pred)\n",
    "    recall = recall_m(y_true, y_pred)\n",
    "    return 2 * ((precision * recall) / (precision + recall + K.epsilon()))"
   ]
  },
  {
   "cell_type": "code",
   "execution_count": 261,
   "metadata": {},
   "outputs": [
    {
     "name": "stdout",
     "output_type": "stream",
     "text": [
      "Epoch 1/3\n",
      "7525/7525 [==============================] - 9s 1ms/step - loss: 0.5530 - accuracy: 0.8160 - recall_m: 0.7315 - precision_m: 0.9018 - f1_m: 0.8001 - val_loss: 1.3229 - val_accuracy: 0.6537 - val_recall_m: 0.5804 - val_precision_m: 0.6467 - val_f1_m: 0.6010\n",
      "Epoch 2/3\n",
      "7525/7525 [==============================] - 9s 1ms/step - loss: 0.3413 - accuracy: 0.8834 - recall_m: 0.8470 - precision_m: 0.9195 - f1_m: 0.8811 - val_loss: 1.4997 - val_accuracy: 0.6947 - val_recall_m: 0.6427 - val_precision_m: 0.6960 - val_f1_m: 0.6592\n",
      "Epoch 3/3\n",
      "7525/7525 [==============================] - 9s 1ms/step - loss: 0.2932 - accuracy: 0.9005 - recall_m: 0.8741 - precision_m: 0.9265 - f1_m: 0.8991 - val_loss: 1.6692 - val_accuracy: 0.6958 - val_recall_m: 0.6612 - val_precision_m: 0.7083 - val_f1_m: 0.6762\n"
     ]
    },
    {
     "data": {
      "text/plain": [
       "<tensorflow.python.keras.callbacks.History at 0x7fa91408beb8>"
      ]
     },
     "execution_count": 261,
     "metadata": {},
     "output_type": "execute_result"
    }
   ],
   "source": [
    "model = Sequential()\n",
    "model.add(\n",
    "    Dense(\n",
    "        128,\n",
    "        activation=\"relu\",\n",
    "        kernel_regularizer=regularizers.l2(1e-5),\n",
    "        bias_initializer=\"zeros\",\n",
    "    )\n",
    ")\n",
    "model.add(Dropout(0.5))\n",
    "model.add(Dense(n_classes, activation=\"softmax\"))\n",
    "model.compile(\n",
    "    loss=\"categorical_crossentropy\",\n",
    "    optimizer=keras.optimizers.Adam(lr=0.001),\n",
    "    metrics=[\"accuracy\", recall_m, precision_m, f1_m],\n",
    ")\n",
    "\n",
    "model.fit(\n",
    "    X_train_balanced,\n",
    "    dummy_y_train_balanced,\n",
    "    epochs=3,\n",
    "    validation_data=(X_encoded_valid, dummy_y_valid),\n",
    ")"
   ]
  },
  {
   "cell_type": "code",
   "execution_count": 163,
   "metadata": {},
   "outputs": [
    {
     "name": "stdout",
     "output_type": "stream",
     "text": [
      "3638/3638 [==============================] - 5s 1ms/step - loss: 0.0665 - accuracy: 0.9794 - recall_m: 0.9776 - precision_m: 0.9814 - f1_m: 0.9794 - val_loss: 0.7863 - val_accuracy: 0.8972 - val_recall_m: 0.8957 - val_precision_m: 0.8975 - val_f1_m: 0.8966\n"
     ]
    },
    {
     "data": {
      "text/plain": [
       "<tensorflow.python.keras.callbacks.History at 0x7fa9222ff7b8>"
      ]
     },
     "execution_count": 163,
     "metadata": {},
     "output_type": "execute_result"
    }
   ],
   "source": [
    "model.fit(\n",
    "    X_train_balanced,\n",
    "    dummy_y_train_balanced,\n",
    "    epochs=1,\n",
    "    validation_data=(X_encoded_valid, dummy_y_valid),\n",
    ")"
   ]
  },
  {
   "cell_type": "code",
   "execution_count": 125,
   "metadata": {},
   "outputs": [
    {
     "name": "stderr",
     "output_type": "stream",
     "text": [
      "/home/augusto/.python_venvs/local/lib/python3.6/site-packages/ipykernel_launcher.py:14: RuntimeWarning: divide by zero encountered in true_divide\n",
      "  \n",
      "/home/augusto/.python_venvs/local/lib/python3.6/site-packages/ipykernel_launcher.py:14: RuntimeWarning: invalid value encountered in true_divide\n",
      "  \n",
      "/home/augusto/.python_venvs/local/lib/python3.6/site-packages/matplotlib/colors.py:1026: RuntimeWarning: invalid value encountered in true_divide\n",
      "  resdat /= (vmax - vmin)\n"
     ]
    },
    {
     "data": {
      "image/png": "[encoded data removed]",
      "text/plain": [
       "<Figure size 720x720 with 1 Axes>"
      ]
     },
     "metadata": {
      "needs_background": "light"
     },
     "output_type": "display_data"
    },
    {
     "name": "stdout",
     "output_type": "stream",
     "text": [
      "Classification Report:\n",
      "              precision    recall  f1-score   support\n",
      "\n",
      "           1       0.90      0.83      0.86     16412\n",
      "           2       0.72      0.70      0.71      4270\n",
      "           3       0.90      0.89      0.89      8779\n",
      "           4       0.17      0.06      0.09       189\n",
      "           5       0.00      0.00      0.00        81\n",
      "           7       0.00      0.00      0.00         0\n",
      "           8       0.98      0.43      0.59       304\n",
      "           9       0.52      0.57      0.54      2221\n",
      "          10       0.57      0.68      0.62      3560\n",
      "          11       0.00      0.00      0.00       236\n",
      "          15       0.00      0.00      0.00        78\n",
      "          19       1.00      1.00      1.00        75\n",
      "          23       0.17      0.26      0.20      1605\n",
      "          24       0.53      0.60      0.57       435\n",
      "\n",
      "    accuracy                           0.76     38245\n",
      "   macro avg       0.46      0.43      0.43     38245\n",
      "weighted avg       0.78      0.76      0.77     38245\n",
      "\n"
     ]
    },
    {
     "name": "stderr",
     "output_type": "stream",
     "text": [
      "/home/augusto/.python_venvs/local/lib/python3.6/site-packages/sklearn/metrics/_classification.py:1221: UndefinedMetricWarning: Recall and F-score are ill-defined and being set to 0.0 in labels with no true samples. Use `zero_division` parameter to control this behavior.\n",
      "  _warn_prf(average, modifier, msg_start, len(result))\n"
     ]
    }
   ],
   "source": [
    "from sklearn.metrics import confusion_matrix, classification_report\n",
    "import matplotlib.pyplot as plt\n",
    "import seaborn as sns\n",
    "import numpy as np\n",
    "\n",
    "# Generamos las etiquetas predichas por nuestra red\n",
    "y_pred = model.predict(X_encoded_valid)\n",
    "test_pred = encoder.inverse_transform(np.argmax(y_pred, axis=1))\n",
    "test_labels_ = y_valid_augmented\n",
    "\n",
    "# Confusion Matrix\n",
    "fig, ax = plt.subplots(figsize=(10, 10))\n",
    "conf_matrix = confusion_matrix(test_labels_, test_pred)\n",
    "conf_matrix = conf_matrix / np.sum(conf_matrix, axis=1)\n",
    "\n",
    "sns.heatmap(\n",
    "    conf_matrix, annot=True, fmt=\".2f\", square=True, cbar=False, cmap=plt.cm.jet, ax=ax\n",
    ")\n",
    "ax.set_ylabel(\"Actual\")\n",
    "ax.set_xlabel(\"Predicted\")\n",
    "ax.set_title(\"Confusion Matrix\")\n",
    "plt.show()\n",
    "\n",
    "print(\"Classification Report:\")\n",
    "print(classification_report(test_labels_, test_pred))"
   ]
  },
  {
   "cell_type": "code",
   "execution_count": null,
   "metadata": {},
   "outputs": [],
   "source": [
    "full_df = train_augmented.append(valid_augmented, ignore_index=True)\n",
    "full_x, full_y = process_features(full_df, label=\"cultivo\")\n",
    "sc_final = StandardScaler()\n",
    "X_encoded_final = sc_final.fit_transform(full_x)\n",
    "\n",
    "# encode class values as integers\n",
    "encoder_final = LabelEncoder()\n",
    "encoded_Y_final = encoder.fit_transform(full_y)\n",
    "# convert integers to dummy variables (i.e. one hot encoded)\n",
    "dummy_y_final = keras.utils.to_categorical(encoded_Y_final)"
   ]
  },
  {
   "cell_type": "markdown",
   "metadata": {},
   "source": [
    "SMOTE"
   ]
  },
  {
   "cell_type": "code",
   "execution_count": null,
   "metadata": {},
   "outputs": [],
   "source": [
    "train_augmented.drop(\n",
    "    [\"MSK_SNWPRB_mean\", \"QA10_mean\", \"QA20_mean\"], axis=1, inplace=True\n",
    ")\n",
    "full_df.drop(\n",
    "    [\"MSK_SNWPRB_mean\", \"QA10_mean\", \"QA20_mean\"], axis=1, inplace=True\n",
    ")\n",
    "new_df = X_train_augmented.copy()\n",
    "new_df[\"cultivo\"] = y_train_augmented\n",
    "train_no_outliers = new_df[~new_df.groupby(\"cultivo\")[\"NDVI_mean\"].apply(is_outlier)]\n",
    "train_no_outliers = train_no_outliers.query(\"cultivo != 23\")"
   ]
  },
  {
   "cell_type": "code",
   "execution_count": 175,
   "metadata": {},
   "outputs": [],
   "source": [
    "full_df = train_augmented.append(valid_augmented, ignore_index=True)\n",
    "full_x, full_y = process_features(new_df, label=\"cultivo\")\n",
    "new_df = full_x.copy()\n",
    "new_df[\"cultivo\"] = full_y\n",
    "full_x = new_df[~new_df.groupby(\"cultivo\")[\"NDVI_mean\"].apply(is_outlier)]\n",
    "full_x = train_no_outliers.query(\"cultivo != 23\")\n",
    "full_x, full_y = process_features(full_x, label=\"cultivo\")"
   ]
  },
  {
   "cell_type": "code",
   "execution_count": 283,
   "metadata": {},
   "outputs": [],
   "source": [
    "full_df = train_augmented.append(valid_augmented, ignore_index=True)\n",
    "full_x, full_y = process_features(full_df, label=\"cultivo\")\n",
    "sc_final = StandardScaler()\n",
    "X_encoded_final = sc_final.fit_transform(full_x)\n",
    "\n",
    "oversample = SMOTE()\n",
    "X_final_balanced, y_final_balanced = oversample.fit_resample(X_encoded_final, full_y)\n",
    "\n",
    "# encode class values as integers\n",
    "encoder_final = LabelEncoder()\n",
    "encoded_Y_final_balanced = encoder_final.fit_transform(y_final_balanced)\n",
    "# convert integers to dummy variables (i.e. one hot encoded)\n",
    "dummy_y_final_balanced = keras.utils.to_categorical(encoded_Y_final_balanced)"
   ]
  },
  {
   "cell_type": "code",
   "execution_count": 284,
   "metadata": {},
   "outputs": [
    {
     "data": {
      "text/plain": [
       "14"
      ]
     },
     "execution_count": 284,
     "metadata": {},
     "output_type": "execute_result"
    }
   ],
   "source": [
    "n_classes"
   ]
  },
  {
   "cell_type": "code",
   "execution_count": 285,
   "metadata": {},
   "outputs": [
    {
     "name": "stdout",
     "output_type": "stream",
     "text": [
      "Epoch 1/2\n",
      "15619/15619 [==============================] - 18s 1ms/step - loss: 0.5582 - accuracy: 0.8162 - recall_m: 0.7352 - precision_m: 0.8953 - f1_m: 0.8013\n",
      "Epoch 2/2\n",
      "15619/15619 [==============================] - 19s 1ms/step - loss: 0.3760 - accuracy: 0.8705 - recall_m: 0.8292 - precision_m: 0.9102 - f1_m: 0.8671\n"
     ]
    },
    {
     "data": {
      "text/plain": [
       "<tensorflow.python.keras.callbacks.History at 0x7fa91417e1d0>"
      ]
     },
     "execution_count": 285,
     "metadata": {},
     "output_type": "execute_result"
    }
   ],
   "source": [
    "model = Sequential()\n",
    "model.add(\n",
    "    Dense(\n",
    "        128,\n",
    "        activation=\"relu\",\n",
    "        kernel_regularizer=regularizers.l2(1e-5),\n",
    "        bias_initializer=\"zeros\",\n",
    "    )\n",
    ")\n",
    "model.add(Dropout(0.5))\n",
    "model.add(Dense(n_classes, activation=\"softmax\"))\n",
    "model.compile(\n",
    "    loss=\"categorical_crossentropy\",\n",
    "    optimizer=keras.optimizers.Adam(lr=0.001),\n",
    "    metrics=[\"accuracy\", recall_m, precision_m, f1_m],\n",
    ")\n",
    "\n",
    "model.fit(\n",
    "    X_final_balanced, dummy_y_final_balanced, epochs=2,\n",
    ")"
   ]
  },
  {
   "cell_type": "code",
   "execution_count": 179,
   "metadata": {},
   "outputs": [
    {
     "name": "stdout",
     "output_type": "stream",
     "text": [
      "3638/3638 [==============================] - 4s 1ms/step - loss: 0.1099 - accuracy: 0.9648 - recall_m: 0.9584 - precision_m: 0.9713 - f1_m: 0.9647\n"
     ]
    },
    {
     "data": {
      "text/plain": [
       "<tensorflow.python.keras.callbacks.History at 0x7fa920c8fd30>"
      ]
     },
     "execution_count": 179,
     "metadata": {},
     "output_type": "execute_result"
    }
   ],
   "source": [
    "model.fit(\n",
    "    X_final_balanced, dummy_y_final_balanced, epochs=1,\n",
    ")"
   ]
  },
  {
   "cell_type": "code",
   "execution_count": null,
   "metadata": {},
   "outputs": [],
   "source": [
    "model.save(\"modelo_ganador.h5\")"
   ]
  },
  {
   "cell_type": "markdown",
   "metadata": {},
   "source": [
    "## **Final pipeline**"
   ]
  },
  {
   "cell_type": "code",
   "execution_count": 113,
   "metadata": {},
   "outputs": [],
   "source": [
    "def get_bands_info(row):\n",
    "    latitud = row[\"Latitud\"]\n",
    "    longitud = row[\"Longitud\"]\n",
    "    bands = get_coord_bands(\n",
    "        long=longitud,\n",
    "        lat=latitud,\n",
    "        start_year=row[\"start_year\"],\n",
    "        end_year=row[\"end_year\"],\n",
    "    )\n",
    "    data = {\n",
    "        \"latitud\": latitud,\n",
    "        \"longitud\": longitud,\n",
    "        \"elevacion\": row[\"Elevacion\"],\n",
    "        **bands,\n",
    "    }\n",
    "    return data"
   ]
  },
  {
   "cell_type": "code",
   "execution_count": 120,
   "metadata": {},
   "outputs": [],
   "source": [
    "thread_pool = ThreadPool(8)\n",
    "test_bands = thread_pool.map(get_bands_info, test.to_dict(orient=\"records\"))\n",
    "test_final = pd.DataFrame(test_bands)\n",
    "test_final.to_csv(\"test_data_v4.csv\", index=False)"
   ]
  },
  {
   "cell_type": "code",
   "execution_count": 286,
   "metadata": {},
   "outputs": [],
   "source": [
    "test_final = pd.read_csv(\"test_data_v4.csv\")"
   ]
  },
  {
   "cell_type": "code",
   "execution_count": 287,
   "metadata": {},
   "outputs": [],
   "source": [
    "X_final, _ = process_features(test_final)\n",
    "X_final.drop([\"MSK_SNWPRB_mean\", \"QA10_mean\", \"QA20_mean\"], axis=1, inplace=True)"
   ]
  },
  {
   "cell_type": "code",
   "execution_count": 288,
   "metadata": {},
   "outputs": [],
   "source": [
    "X_encoded_test = sc_final.transform(X_final)"
   ]
  },
  {
   "cell_type": "code",
   "execution_count": 289,
   "metadata": {},
   "outputs": [],
   "source": [
    "preds = model.predict(X_encoded_test)"
   ]
  },
  {
   "cell_type": "code",
   "execution_count": null,
   "metadata": {},
   "outputs": [],
   "source": [
    "pd.DataFrame(np.argmax(preds, axis=1))\n",
    "\n",
    "preds.max(axis=1)\n",
    "\n",
    "np.argwhere(preds > 0.01)\n",
    "\n",
    "(preds.max(axis=1) < 0.4).mean()\n",
    "\n",
    "preds.\n",
    "\n",
    "plt.hist(preds.max(axis=1))"
   ]
  },
  {
   "cell_type": "code",
   "execution_count": null,
   "metadata": {},
   "outputs": [],
   "source": [
    "import matplotlib.pyplot as plt"
   ]
  },
  {
   "cell_type": "code",
   "execution_count": 291,
   "metadata": {},
   "outputs": [],
   "source": [
    "qq = test.copy()\n",
    "qq[\"preds\"] = encoder_final.inverse_transform(np.argmax(preds, axis=1))"
   ]
  },
  {
   "cell_type": "code",
   "execution_count": 293,
   "metadata": {},
   "outputs": [],
   "source": [
    "qq[[\"GlobalId\", \"preds\"]].to_csv(\n",
    "    \"preds_sadosky_nn_point_data_mean_SMOTE_test_v4.csv\", header=None, index=False\n",
    ")"
   ]
  },
  {
   "cell_type": "code",
   "execution_count": 140,
   "metadata": {},
   "outputs": [
    {
     "data": {
      "text/plain": [
       "1     344\n",
       "3     210\n",
       "2      89\n",
       "10     82\n",
       "9      55\n",
       "23     34\n",
       "24     12\n",
       "11      6\n",
       "8       6\n",
       "4       4\n",
       "19      2\n",
       "15      2\n",
       "5       2\n",
       "7       1\n",
       "Name: CultivoId, dtype: int64"
      ]
     },
     "execution_count": 140,
     "metadata": {},
     "output_type": "execute_result"
    }
   ],
   "source": [
    "train[\"CultivoId\"].value_counts()"
   ]
  },
  {
   "cell_type": "code",
   "execution_count": 292,
   "metadata": {},
   "outputs": [
    {
     "data": {
      "text/plain": [
       "1     210\n",
       "3     143\n",
       "2      72\n",
       "9      49\n",
       "10     42\n",
       "23     22\n",
       "24      8\n",
       "15      2\n",
       "11      2\n",
       "8       2\n",
       "7       1\n",
       "5       1\n",
       "4       1\n",
       "Name: preds, dtype: int64"
      ]
     },
     "execution_count": 292,
     "metadata": {},
     "output_type": "execute_result"
    }
   ],
   "source": [
    "qq[\"preds\"].value_counts()"
   ]
  },
  {
   "cell_type": "code",
   "execution_count": 139,
   "metadata": {},
   "outputs": [
    {
     "data": {
      "text/plain": [
       "1     172\n",
       "3     146\n",
       "2      79\n",
       "23     50\n",
       "9      50\n",
       "10     45\n",
       "24      6\n",
       "15      2\n",
       "11      2\n",
       "8       2\n",
       "4       1\n",
       "Name: preds, dtype: int64"
      ]
     },
     "execution_count": 139,
     "metadata": {},
     "output_type": "execute_result"
    }
   ],
   "source": [
    "qq[\"preds\"].value_counts()"
   ]
  },
  {
   "cell_type": "code",
   "execution_count": 133,
   "metadata": {},
   "outputs": [
    {
     "data": {
      "text/plain": [
       "1     177\n",
       "3     138\n",
       "2      77\n",
       "9      56\n",
       "10     46\n",
       "23     45\n",
       "24      7\n",
       "15      2\n",
       "11      2\n",
       "8       2\n",
       "4       2\n",
       "7       1\n",
       "Name: preds, dtype: int64"
      ]
     },
     "execution_count": 133,
     "metadata": {},
     "output_type": "execute_result"
    }
   ],
   "source": [
    "qq[\"preds\"].value_counts()"
   ]
  },
  {
   "cell_type": "code",
   "execution_count": 225,
   "metadata": {},
   "outputs": [
    {
     "data": {
      "text/plain": [
       "1     195\n",
       "3     141\n",
       "2      62\n",
       "10     53\n",
       "9      50\n",
       "23     43\n",
       "24      6\n",
       "11      2\n",
       "7       2\n",
       "8       1\n",
       "Name: preds, dtype: int64"
      ]
     },
     "execution_count": 225,
     "metadata": {},
     "output_type": "execute_result"
    }
   ],
   "source": [
    "qq[\"preds\"].value_counts()"
   ]
  },
  {
   "cell_type": "code",
   "execution_count": null,
   "metadata": {},
   "outputs": [],
   "source": [
    "qq[\"preds\"].value_counts()"
   ]
  },
  {
   "cell_type": "code",
   "execution_count": null,
   "metadata": {},
   "outputs": [],
   "source": [
    "qq[\"preds\"].value_counts()"
   ]
  },
  {
   "cell_type": "code",
   "execution_count": null,
   "metadata": {},
   "outputs": [],
   "source": [
    "qq[\"preds\"].value_counts()"
   ]
  },
  {
   "cell_type": "code",
   "execution_count": null,
   "metadata": {},
   "outputs": [],
   "source": [
    "qq[\"preds\"].value_counts()"
   ]
  },
  {
   "cell_type": "code",
   "execution_count": null,
   "metadata": {},
   "outputs": [],
   "source": [
    "qq[\"preds\"].value_counts()"
   ]
  },
  {
   "cell_type": "code",
   "execution_count": null,
   "metadata": {},
   "outputs": [],
   "source": [
    "qq[\"preds\"].value_counts()"
   ]
  },
  {
   "cell_type": "code",
   "execution_count": null,
   "metadata": {},
   "outputs": [],
   "source": [
    "train[\"CultivoId\"].value_counts()"
   ]
  },
  {
   "cell_type": "markdown",
   "metadata": {},
   "source": [
    "# **ENSAMBLEEEEEEEEE**"
   ]
  },
  {
   "cell_type": "code",
   "execution_count": null,
   "metadata": {},
   "outputs": [],
   "source": [
    "from keras.models import load_model"
   ]
  },
  {
   "cell_type": "code",
   "execution_count": null,
   "metadata": {},
   "outputs": [],
   "source": [
    "model_ganador = load_model(\"modelo_ganador.h5\")"
   ]
  },
  {
   "cell_type": "code",
   "execution_count": null,
   "metadata": {},
   "outputs": [],
   "source": [
    "new_full_df = pd.DataFrame(X_final_balanced, columns=X_train_augmented.columns)"
   ]
  },
  {
   "cell_type": "code",
   "execution_count": null,
   "metadata": {},
   "outputs": [],
   "source": [
    "preds_X = model_ganador.predict(X_encoded_final)"
   ]
  },
  {
   "cell_type": "code",
   "execution_count": null,
   "metadata": {},
   "outputs": [],
   "source": [
    "X_encoded_final"
   ]
  },
  {
   "cell_type": "code",
   "execution_count": null,
   "metadata": {},
   "outputs": [],
   "source": [
    "new_full_df = pd.DataFrame(X_encoded_final, columns=X_train_augmented.columns)\n",
    "new_full_df[\"preds\"] = encoder.inverse_transform(np.argmax(preds_X, axis=1))"
   ]
  },
  {
   "cell_type": "code",
   "execution_count": null,
   "metadata": {},
   "outputs": [],
   "source": [
    "clf = LGBMClassifier(n_jobs=-1)\n",
    "\n",
    "clf.fit(new_full_df, full_y)"
   ]
  },
  {
   "cell_type": "code",
   "execution_count": null,
   "metadata": {},
   "outputs": [],
   "source": [
    "svc_model = SVC()\n",
    "\n",
    "svc_model.fit(new_full_df, full_y)"
   ]
  },
  {
   "cell_type": "code",
   "execution_count": null,
   "metadata": {},
   "outputs": [],
   "source": [
    "feat_imp = pd.DataFrame(\n",
    "    list(zip(new_full_df.columns, clf.feature_importances_,))\n",
    ").rename(columns={0: \"Feature\", 1: \"Importance\"})\n",
    "feat_imp.sort_values(\"Importance\", ascending=False)[:20]"
   ]
  },
  {
   "cell_type": "code",
   "execution_count": null,
   "metadata": {},
   "outputs": [],
   "source": [
    "new_test = X_encoded_test.copy()\n",
    "new_test = pd.DataFrame(new_test, columns=X_train_augmented.columns)"
   ]
  },
  {
   "cell_type": "code",
   "execution_count": null,
   "metadata": {},
   "outputs": [],
   "source": [
    "preds_text = model.predict(new_test)\n",
    "new_test[\"preds\"] = encoder.inverse_transform(np.argmax(preds_text, axis=1))"
   ]
  },
  {
   "cell_type": "code",
   "execution_count": null,
   "metadata": {},
   "outputs": [],
   "source": [
    "new_test[\"preds\"].value_counts()"
   ]
  },
  {
   "cell_type": "code",
   "execution_count": null,
   "metadata": {},
   "outputs": [],
   "source": [
    "ensamble_preds = svc_model.predict(new_test)"
   ]
  },
  {
   "cell_type": "code",
   "execution_count": null,
   "metadata": {},
   "outputs": [],
   "source": [
    "ensamble_preds"
   ]
  },
  {
   "cell_type": "code",
   "execution_count": null,
   "metadata": {},
   "outputs": [],
   "source": [
    "ensamble_pred = test.copy()\n",
    "ensamble_pred[\"preds\"] = ensamble_preds"
   ]
  },
  {
   "cell_type": "code",
   "execution_count": null,
   "metadata": {},
   "outputs": [],
   "source": [
    "qq[\"preds_2\"].value_counts()"
   ]
  },
  {
   "cell_type": "code",
   "execution_count": null,
   "metadata": {},
   "outputs": [],
   "source": [
    "ensamble_pred[\"preds\"].value_counts()"
   ]
  },
  {
   "cell_type": "code",
   "execution_count": null,
   "metadata": {},
   "outputs": [],
   "source": [
    "ensamble_pred[\"preds\"].value_counts()"
   ]
  },
  {
   "cell_type": "code",
   "execution_count": null,
   "metadata": {},
   "outputs": [],
   "source": [
    "ensamble_pred[[\"GlobalId\", \"preds\"]].to_csv(\n",
    "    \"preds_sadosky_nn_point_data_mean_SMOTE_ensamble.csv\", header=None, index=False\n",
    ")"
   ]
  },
  {
   "cell_type": "code",
   "execution_count": null,
   "metadata": {},
   "outputs": [],
   "source": []
  }
 ],
 "metadata": {
  "kernelspec": {
   "display_name": "Python 3",
   "language": "python",
   "name": "python3"
  },
  "language_info": {
   "codemirror_mode": {
    "name": "ipython",
    "version": 3
   },
   "file_extension": ".py",
   "mimetype": "text/x-python",
   "name": "python",
   "nbconvert_exporter": "python",
   "pygments_lexer": "ipython3",
   "version": "3.6.9"
  }
 },
 "nbformat": 4,
 "nbformat_minor": 4
}
