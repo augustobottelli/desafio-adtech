{
 "cells": [
  {
   "cell_type": "code",
   "execution_count": 1,
   "metadata": {},
   "outputs": [],
   "source": [
    "%load_ext lab_black"
   ]
  },
  {
   "cell_type": "code",
   "execution_count": 2,
   "metadata": {},
   "outputs": [],
   "source": [
    "import os\n",
    "import itertools\n",
    "from multiprocessing.pool import ThreadPool\n",
    "\n",
    "import numpy as np\n",
    "import ee\n",
    "import pandas as pd\n",
    "import tqdm\n",
    "import folium\n",
    "from tqdm.contrib.concurrent import process_map\n",
    "from sklearn.pipeline import Pipeline\n",
    "from sklearn.model_selection import (\n",
    "    train_test_split,`\n",
    "    KFold,\n",
    "    cross_val_score,\n",
    "    GridSearchCV,\n",
    "    RandomizedSearchCV,\n",
    ")\n",
    "from sklearn.preprocessing import (\n",
    "    OneHotEncoder,\n",
    "    LabelEncoder,\n",
    "    PolynomialFeatures,\n",
    "    StandardScaler,\n",
    ")\n",
    "from sklearn.compose import ColumnTransformer\n",
    "from sklearn.feature_extraction.text import CountVectorizer\n",
    "from sklearn.impute import SimpleImputer\n",
    "from sklearn.neighbors import KNeighborsClassifier\n",
    "from sklearn.svm import SVC\n",
    "from sklearn.ensemble import RandomForestClassifier\n",
    "from sklearn.cluster import KMeans\n",
    "from lightgbm import LGBMClassifier"
   ]
  },
  {
   "cell_type": "code",
   "execution_count": null,
   "metadata": {},
   "outputs": [],
   "source": [
    "ee.Authenticate()"
   ]
  },
  {
   "cell_type": "code",
   "execution_count": 3,
   "metadata": {},
   "outputs": [],
   "source": [
    "ee.Initialize()"
   ]
  },
  {
   "cell_type": "code",
   "execution_count": 4,
   "metadata": {},
   "outputs": [],
   "source": [
    "path = os.path.join(\"/home\", \"augusto\", \"Github\", \"DesafioAgTech2020\")\n",
    "os.chdir(path)"
   ]
  },
  {
   "cell_type": "code",
   "execution_count": 5,
   "metadata": {},
   "outputs": [],
   "source": [
    "etiquetas = pd.read_csv(path + \"/dataset/Etiquetas.csv\")\n",
    "train = pd.read_csv(path + \"/dataset/data_train.csv\")\n",
    "test = pd.read_csv(path + \"/dataset/data_test.csv\")"
   ]
  },
  {
   "cell_type": "code",
   "execution_count": 6,
   "metadata": {},
   "outputs": [],
   "source": [
    "train = pd.merge(train, etiquetas, on=\"Cultivo\")\n",
    "train[\"Tipo\"] = train[\"Tipo\"].apply(\n",
    "    lambda x: x.replace(\" \", \"_\").replace(\",\", \"\").lower()\n",
    ")"
   ]
  },
  {
   "cell_type": "code",
   "execution_count": 7,
   "metadata": {},
   "outputs": [],
   "source": [
    "def split_years(campania):\n",
    "    start_year, end_year = tuple(campania.split(\"/\"))\n",
    "    return \"20\" + start_year, \"20\" + end_year"
   ]
  },
  {
   "cell_type": "code",
   "execution_count": 8,
   "metadata": {},
   "outputs": [],
   "source": [
    "train[\"start_year\"], train[\"end_year\"] = zip(*train[\"Campania\"].map(split_years))\n",
    "test[\"start_year\"], test[\"end_year\"] = zip(*test[\"Campania\"].map(split_years))"
   ]
  },
  {
   "cell_type": "code",
   "execution_count": 13,
   "metadata": {},
   "outputs": [
    {
     "data": {
      "text/plain": [
       "<matplotlib.axes._subplots.AxesSubplot at 0x7fbbb80af898>"
      ]
     },
     "execution_count": 13,
     "metadata": {},
     "output_type": "execute_result"
    },
    {
     "data": {
      "image/png": "[encoded data removed]",
      "text/plain": [
       "<Figure size 1080x432 with 1 Axes>"
      ]
     },
     "metadata": {
      "needs_background": "light"
     },
     "output_type": "display_data"
    }
   ],
   "source": [
    "train.boxplot(column=[\"Elevacion\"], by=\"Cultivo\", figsize=(15, 6))"
   ]
  },
  {
   "cell_type": "markdown",
   "metadata": {},
   "source": [
    "Eliminamos las observaciones con etiqueta \"no_sabe\" dado que no aportan ningun tipo de informacion"
   ]
  },
  {
   "cell_type": "code",
   "execution_count": 67,
   "metadata": {},
   "outputs": [],
   "source": [
    "train_filtered = train.query(\"Tipo not in ('girasol')\")\n",
    "\n",
    "X_train, X_valid, y_train, y_valid = train_test_split(\n",
    "    train_filtered.drop(\"Tipo\", axis=1),\n",
    "    train_filtered[\"Tipo\"],\n",
    "    stratify=train_filtered[\"Tipo\"],\n",
    "    test_size=0.5,\n",
    ")\n",
    "\n",
    "train_dataset = X_train.copy()\n",
    "train_dataset[\"Tipo\"] = y_train\n",
    "train_dataset.reset_index(drop=True, inplace=True)\n",
    "valid_dataset = X_valid.copy()\n",
    "valid_dataset[\"Tipo\"] = y_valid\n",
    "valid_dataset.reset_index(drop=True, inplace=True)\n",
    "\n",
    "train_dataset.loc[len(train_dataset) + 1] = train.query(\"Tipo == 'girasol'\").iloc[\n",
    "    0\n",
    "]  # Agrego girasol\n",
    "\n",
    "\n",
    "X_train, X_valid, y_train, y_valid = train_test_split(\n",
    "    train_filtered.drop(\"Tipo\", axis=1),\n",
    "    train_filtered[\"Tipo\"],\n",
    "    stratify=train_filtered[\"Tipo\"],\n",
    "    test_size=0.5,\n",
    ")\n",
    "\n",
    "train_dataset = X_train.copy()\n",
    "train_dataset[\"Tipo\"] = y_train\n",
    "train_dataset.reset_index(drop=True, inplace=True)\n",
    "valid_dataset = X_valid.copy()\n",
    "valid_dataset[\"Tipo\"] = y_valid\n",
    "valid_dataset.reset_index(drop=True, inplace=True)\n",
    "\n",
    "train_dataset.loc[len(train_dataset) + 1] = train.query(\"Tipo == 'girasol'\").iloc[\n",
    "    0\n",
    "]  # Agrego girasol"
   ]
  },
  {
   "cell_type": "code",
   "execution_count": 12,
   "metadata": {},
   "outputs": [],
   "source": [
    "def get_coord_bands(long, lat, start_year, end_year, scale=10):\n",
    "    generate_request = (\n",
    "        ee.ImageCollection(\"COPERNICUS/S2_SR\")\n",
    "        .filterBounds(ee.Geometry.Point(long, lat))\n",
    "        .filterDate(f\"{start_year}-12-15\", f\"{end_year}-03-15\")\n",
    "        .filterMetadata(\"CLOUDY_PIXEL_PERCENTAGE\", \"less_than\", 10)\n",
    "        .reduce(ee.Reducer.mean())\n",
    "        .reduceRegion(ee.Reducer.mean(), ee.Geometry.Point(long, lat), scale=scale)\n",
    "    )\n",
    "    pixel_bands = generate_request.getInfo()\n",
    "    return pixel_bands"
   ]
  },
  {
   "cell_type": "code",
   "execution_count": 13,
   "metadata": {},
   "outputs": [],
   "source": [
    "def get_bands_info(row):\n",
    "    latitud = row[\"Latitud\"]\n",
    "    longitud = row[\"Longitud\"]\n",
    "    bands = get_coord_bands(\n",
    "        long=longitud,\n",
    "        lat=latitud,\n",
    "        start_year=row[\"start_year\"],\n",
    "        end_year=row[\"end_year\"],\n",
    "    )\n",
    "    data = {\n",
    "        \"latitud\": latitud,\n",
    "        \"longitud\": longitud,\n",
    "        \"elevacion\": row[\"Elevacion\"],\n",
    "        \"cultivo\": row[\"CultivoId\"],\n",
    "        \"etiqueta\": row[\"Tipo\"],\n",
    "        **bands,\n",
    "    }\n",
    "    return data"
   ]
  },
  {
   "cell_type": "code",
   "execution_count": 14,
   "metadata": {},
   "outputs": [],
   "source": [
    "def data_augmentation(row, start=-0.0005, end=0.0005, offset=0.0001):\n",
    "    new_obs = []\n",
    "    for lat_offset in np.arange(start, end, offset):\n",
    "        for long_offset in np.arange(start, end, offset):\n",
    "            image_type = (\n",
    "                \"original\" if (long_offset == 0 and lat_offset == 0) else \"augmented\"\n",
    "            )\n",
    "            latitud = row[\"Latitud\"] + lat_offset\n",
    "            longitud = row[\"Longitud\"] + long_offset\n",
    "            bands = get_coord_bands(\n",
    "                long=longitud,\n",
    "                lat=latitud,\n",
    "                start_year=row[\"start_year\"],\n",
    "                end_year=row[\"end_year\"],\n",
    "            )\n",
    "            data = {\n",
    "                \"latitud\": latitud,\n",
    "                \"longitud\": longitud,\n",
    "                \"elevacion\": row[\"Elevacion\"],\n",
    "                **bands,\n",
    "                \"cultivo\": row[\"CultivoId\"],\n",
    "                \"etiqueta\": row[\"Tipo\"],\n",
    "                \"imagen\": image_type,\n",
    "            }\n",
    "            new_obs.append(data)\n",
    "    return new_obs"
   ]
  },
  {
   "cell_type": "code",
   "execution_count": 48,
   "metadata": {},
   "outputs": [],
   "source": [
    "train_augmented = pd.read_csv(\"train_v4_augmented.csv\")\n",
    "sep = pd.merge(\n",
    "    train_augmented.rename(columns={\"latitud\": \"Latitud\", \"longitud\": \"Longitud\"}),\n",
    "    train,\n",
    "    on=[\"Latitud\", \"Longitud\"],\n",
    "    how=\"right\",\n",
    ")\n",
    "\n",
    "valid_dataset = sep[sep[\"AOT_mean\"].isna()].dropna(axis=1)"
   ]
  },
  {
   "cell_type": "code",
   "execution_count": 229,
   "metadata": {},
   "outputs": [],
   "source": [
    "train_augmented = pd.read_csv(\"train_v4_augmented.csv\")\n",
    "sep = pd.merge(\n",
    "    train_augmented.rename(columns={\"latitud\": \"Latitud\", \"longitud\": \"Longitud\"}),\n",
    "    train,\n",
    "    on=[\"Latitud\", \"Longitud\"],\n",
    "    how=\"right\",\n",
    ")"
   ]
  },
  {
   "cell_type": "code",
   "execution_count": 88,
   "metadata": {},
   "outputs": [],
   "source": [
    "thread_pool = ThreadPool(8)\n",
    "info = train_dataset.to_dict(orient=\"records\")\n",
    "data = thread_pool.map(data_augmentation, info)"
   ]
  },
  {
   "cell_type": "code",
   "execution_count": 93,
   "metadata": {},
   "outputs": [],
   "source": [
    "train_augmented = pd.DataFrame(list(itertools.chain.from_iterable(data)))\n",
    "train_augmented.to_csv(\"train_v4_augmented.csv\", index=False)"
   ]
  },
  {
   "cell_type": "code",
   "execution_count": null,
   "metadata": {},
   "outputs": [],
   "source": [
    "valid_info = valid_dataset.to_dict(orient=\"records\")\n",
    "data_valid = thread_pool.map(data_augmentation, valid_info)\n",
    "valid_augmented = pd.DataFrame(list(itertools.chain.from_iterable(data_valid)))\n",
    "valid_augmented.to_csv(\"valid_v3_augmented.csv\", index=False)"
   ]
  },
  {
   "cell_type": "code",
   "execution_count": null,
   "metadata": {},
   "outputs": [],
   "source": [
    "train_augmented.boxplot([col for col in train_augmented if col.startswith('B')], by=\"etiqueta\", figsize=(15,6));"
   ]
  },
  {
   "cell_type": "code",
   "execution_count": 53,
   "metadata": {},
   "outputs": [],
   "source": [
    "def process_features(dataset, label=None):\n",
    "    df = dataset.copy()\n",
    "    df[\"NDVI_mean\"] = (df[\"B8_mean\"] - df[\"B4_mean\"]) / (df[\"B8_mean\"] + df[\"B4_mean\"])\n",
    "    df[\"GNDVI_mean\"] = (df[\"B8_mean\"] - df[\"B3_mean\"]) / (df[\"B8_mean\"] + df[\"B3_mean\"])\n",
    "    df[\"SAVI_mean\"] = (\n",
    "        (df[\"B8_mean\"] - df[\"B4_mean\"])\n",
    "        / (df[\"B8_mean\"] + df[\"B4_mean\"] + 0.428)\n",
    "        * (1.428)\n",
    "    )\n",
    "    df[\"NDMI_mean\"] = (df[\"B8_mean\"] - df[\"B11_mean\"]) / (\n",
    "        df[\"B8_mean\"] + df[\"B11_mean\"]\n",
    "    )\n",
    "    df[\"MSI_mean\"] = df[\"B11_mean\"] / df[\"B8_mean\"]\n",
    "    df[\"GCI_mean\"] = (df[\"B9_mean\"] / df[\"B3_mean\"]) - 1\n",
    "    df[\"BSI_mean\"] = (\n",
    "        (df[\"B11_mean\"] + df[\"B4_mean\"]) - (df[\"B8_mean\"] + df[\"B2_mean\"])\n",
    "    ) / ((df[\"B11_mean\"] + df[\"B4_mean\"]) + (df[\"B8_mean\"] + df[\"B2_mean\"]))\n",
    "    for value in np.arange(0, 1.0, 0.4):\n",
    "        df[f\"NDVI_mean<{value}\"] = np.where(df[\"NDVI_mean\"] < value, 1, 0)\n",
    "    X_cols = [col for col in df if col.endswith(\"mean\")] + [\"elevacion\"]\n",
    "    X = df[X_cols]\n",
    "    y = np.array(df[label]) if label else None\n",
    "    return X, y"
   ]
  },
  {
   "cell_type": "code",
   "execution_count": null,
   "metadata": {},
   "outputs": [],
   "source": [
    "def is_outlier(s):\n",
    "    lower_limit = s.mean() - (s.std() * 1.2)\n",
    "    upper_limit = s.mean() + (s.std() * 1.2)\n",
    "    return ~s.between(lower_limit, upper_limit)"
   ]
  },
  {
   "cell_type": "code",
   "execution_count": 244,
   "metadata": {},
   "outputs": [],
   "source": [
    "train_augmented = pd.read_csv(\"train_v4_augmented.csv\")\n",
    "valid_augmented = pd.read_csv(\"valid_v4_augmented.csv\")"
   ]
  },
  {
   "cell_type": "code",
   "execution_count": 221,
   "metadata": {},
   "outputs": [],
   "source": [
    "train_augmented = train_augmented.query(\"cultivo != 23\")\n",
    "valid_augmented = valid_augmented.query(\"cultivo != 23\")"
   ]
  },
  {
   "cell_type": "code",
   "execution_count": 248,
   "metadata": {},
   "outputs": [],
   "source": [
    "train_augmented.drop(\n",
    "    [\"MSK_SNWPRB_mean\", \"QA10_mean\", \"QA20_mean\"], axis=1, inplace=True\n",
    ")\n",
    "valid_augmented.drop(\n",
    "    [\"MSK_SNWPRB_mean\", \"QA10_mean\", \"QA20_mean\"], axis=1, inplace=True\n",
    ")"
   ]
  }
 ],
 "metadata": {
  "kernelspec": {
   "display_name": "Python 3",
   "language": "python",
   "name": "python3"
  },
  "language_info": {
   "codemirror_mode": {
    "name": "ipython",
    "version": 3
   },
   "file_extension": ".py",
   "mimetype": "text/x-python",
   "name": "python",
   "nbconvert_exporter": "python",
   "pygments_lexer": "ipython3",
   "version": "3.6.9"
  }
 },
 "nbformat": 4,
 "nbformat_minor": 4
}
